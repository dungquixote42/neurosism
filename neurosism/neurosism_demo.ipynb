{
 "cells": [
  {
   "cell_type": "code",
   "execution_count": 1,
   "id": "53cea580-f97f-4fa6-918a-321518d30dbb",
   "metadata": {},
   "outputs": [
    {
     "name": "stdout",
     "output_type": "stream",
     "text": [
      "Using cuda device\n"
     ]
    }
   ],
   "source": [
    "import numpy as np\n",
    "\n",
    "import os\n",
    "\n",
    "import torch\n",
    "import torch.nn as nn\n",
    "import torch.optim as optim\n",
    "from torch.utils.data import DataLoader\n",
    "import torchvision\n",
    "\n",
    "device = (\n",
    "    \"cuda\"\n",
    "    if torch.cuda.is_available()\n",
    "    else \"mps\"\n",
    "    if torch.backends.mps.is_available()\n",
    "    else \"cpu\"\n",
    ")\n",
    "print(f\"Using {device} device\")\n",
    "\n",
    "TRAIN_COUNT = 60\n",
    "VALIDATION_COUNT = 20\n",
    "TEST_COUNT = 20"
   ]
  },
  {
   "cell_type": "code",
   "execution_count": 2,
   "id": "ea66dc8c-0e25-48ae-8597-e9e8d6de726b",
   "metadata": {},
   "outputs": [],
   "source": [
    "from models.UNet import *\n",
    "from datasets.NeurosismDataset import *\n",
    "import torchvision.transforms as tf\n",
    "from torch.utils.data import DataLoader\n",
    "\n",
    "dataPath = \"../../sensorium_data/\"\n",
    "mouseId = \"dynamic29156-11-10-Video-8744edeac3b4d1ce16b680916b5267ce\"\n",
    "\n",
    "overlayCount = 20\n",
    "trainData = NeurosismDataset(overlayCount, dataPath + mouseId, (122, 2, 2), densify=False, seed=42)\n",
    "\n",
    "batchSize = 1\n",
    "shuffle = True\n",
    "numWorkers = 4\n",
    "trainLoader = DataLoader(trainData, batch_size=batchSize, shuffle=shuffle, num_workers=numWorkers)\n",
    "\n",
    "model = UNet().to(device)\n",
    "# y = model(x)"
   ]
  },
  {
   "cell_type": "code",
   "execution_count": 11,
   "id": "8585f82d-cb16-4209-a006-9156804a622f",
   "metadata": {},
   "outputs": [
    {
     "data": {
      "text/plain": [
       "(7440, 324)"
      ]
     },
     "execution_count": 11,
     "metadata": {},
     "output_type": "execute_result"
    }
   ],
   "source": [
    "responseStds = np.load(dataPath + mouseId + \"/meta/statistics/responses/all/std.npy\")\n",
    "responseStds.shape"
   ]
  },
  {
   "cell_type": "code",
   "execution_count": 18,
   "id": "c5b2358f-637f-41ee-99f0-2ce8e6ab9b3d",
   "metadata": {},
   "outputs": [
    {
     "data": {
      "text/plain": [
       "178560"
      ]
     },
     "execution_count": 18,
     "metadata": {},
     "output_type": "execute_result"
    }
   ],
   "source": [
    "responses = np.load(dataPath + mouseId + \"/data/responses/0.npy\")\n",
    "I, J = responses.shape\n",
    "nans = 0\n",
    "for i in range(I):\n",
    "    for j in range(J):\n",
    "        if math.isnan(responses[i][j]):\n",
    "            nans += 1\n",
    "nans"
   ]
  },
  {
   "cell_type": "code",
   "execution_count": 16,
   "id": "00bf3f3d-26ed-4c91-8d76-330d445a88d1",
   "metadata": {},
   "outputs": [
    {
     "data": {
      "text/plain": [
       "(7440, 324)"
      ]
     },
     "execution_count": 16,
     "metadata": {},
     "output_type": "execute_result"
    }
   ],
   "source": [
    "responses.shape"
   ]
  },
  {
   "cell_type": "code",
   "execution_count": 3,
   "id": "be7bb474-30cd-4aae-b8dc-155e36144d23",
   "metadata": {},
   "outputs": [],
   "source": [
    "# Step 3: Loss Function\n",
    "criterion = nn.MSELoss()\n",
    "# criterion = nn.CrossEntropyLoss()\n",
    "# criterion = nn.BCEWithLogitsLoss()"
   ]
  },
  {
   "cell_type": "code",
   "execution_count": 4,
   "id": "55560cde-8d1b-4ab9-99c7-f9cda7e10311",
   "metadata": {},
   "outputs": [],
   "source": [
    "# Step 4: Optimizer\n",
    "# optimizer = optim.SGD(model.parameters(), lr=0.01)\n",
    "# optimizer = optim.RMSprop(model.parameters(), lr=0.01)\n",
    "optimizer = optim.Adam(model.parameters(), lr=0.01)"
   ]
  },
  {
   "cell_type": "code",
   "execution_count": 14,
   "id": "3bb8f8c7-f055-4a74-a0d7-2fb4a3e72dec",
   "metadata": {},
   "outputs": [
    {
     "data": {
      "text/plain": [
       "True"
      ]
     },
     "execution_count": 14,
     "metadata": {},
     "output_type": "execute_result"
    }
   ],
   "source": [
    "import math\n",
    "math.isnan(trainData.threshold)"
   ]
  },
  {
   "cell_type": "code",
   "execution_count": 19,
   "id": "6200c432-7abf-4f71-bb51-4923bd9ae8c4",
   "metadata": {},
   "outputs": [
    {
     "data": {
      "text/plain": [
       "False"
      ]
     },
     "execution_count": 19,
     "metadata": {},
     "output_type": "execute_result"
    }
   ],
   "source": [
    "trainData.threshold > 0"
   ]
  },
  {
   "cell_type": "code",
   "execution_count": 5,
   "id": "69d274b3-13c2-4f6e-8f96-eb14ebc4fe74",
   "metadata": {},
   "outputs": [
    {
     "name": "stdout",
     "output_type": "stream",
     "text": [
      "tensor(nan, device='cuda:0', grad_fn=<MseLossBackward0>)\n",
      "tensor(nan, device='cuda:0', grad_fn=<MseLossBackward0>)\n",
      "tensor(nan, device='cuda:0', grad_fn=<MseLossBackward0>)\n",
      "tensor(nan, device='cuda:0', grad_fn=<MseLossBackward0>)\n",
      "tensor(nan, device='cuda:0', grad_fn=<MseLossBackward0>)\n",
      "tensor(nan, device='cuda:0', grad_fn=<MseLossBackward0>)\n",
      "tensor(nan, device='cuda:0', grad_fn=<MseLossBackward0>)\n",
      "tensor(nan, device='cuda:0', grad_fn=<MseLossBackward0>)\n",
      "tensor(nan, device='cuda:0', grad_fn=<MseLossBackward0>)\n",
      "tensor(nan, device='cuda:0', grad_fn=<MseLossBackward0>)\n",
      "tensor(nan, device='cuda:0', grad_fn=<MseLossBackward0>)\n",
      "tensor(nan, device='cuda:0', grad_fn=<MseLossBackward0>)\n",
      "tensor(nan, device='cuda:0', grad_fn=<MseLossBackward0>)\n",
      "tensor(nan, device='cuda:0', grad_fn=<MseLossBackward0>)\n",
      "tensor(nan, device='cuda:0', grad_fn=<MseLossBackward0>)\n",
      "tensor(nan, device='cuda:0', grad_fn=<MseLossBackward0>)\n",
      "tensor(nan, device='cuda:0', grad_fn=<MseLossBackward0>)\n",
      "tensor(nan, device='cuda:0', grad_fn=<MseLossBackward0>)\n",
      "tensor(nan, device='cuda:0', grad_fn=<MseLossBackward0>)\n",
      "tensor(nan, device='cuda:0', grad_fn=<MseLossBackward0>)\n"
     ]
    },
    {
     "ename": "KeyboardInterrupt",
     "evalue": "",
     "output_type": "error",
     "traceback": [
      "\u001b[1;31m---------------------------------------------------------------------------\u001b[0m",
      "\u001b[1;31mKeyboardInterrupt\u001b[0m                         Traceback (most recent call last)",
      "Cell \u001b[1;32mIn[5], line 19\u001b[0m\n\u001b[0;32m     16\u001b[0m     optimizer\u001b[38;5;241m.\u001b[39mstep()\n\u001b[0;32m     17\u001b[0m     optimizer\u001b[38;5;241m.\u001b[39mzero_grad()\n\u001b[1;32m---> 19\u001b[0m     running_loss \u001b[38;5;241m+\u001b[39m\u001b[38;5;241m=\u001b[39m \u001b[43mloss\u001b[49m\u001b[38;5;241;43m.\u001b[39;49m\u001b[43mitem\u001b[49m\u001b[43m(\u001b[49m\u001b[43m)\u001b[49m\n\u001b[0;32m     20\u001b[0m     \u001b[38;5;28mprint\u001b[39m(loss)\n\u001b[0;32m     22\u001b[0m \u001b[38;5;66;03m# Print average loss per epoch\u001b[39;00m\n",
      "\u001b[1;31mKeyboardInterrupt\u001b[0m: "
     ]
    }
   ],
   "source": [
    "# Step 5: Training Loop\n",
    "num_epochs = 10\n",
    "\n",
    "for epoch in range(num_epochs):\n",
    "    model.train()\n",
    "    running_loss = 0.0\n",
    "\n",
    "    for x, y in trainLoader:\n",
    "        x = x.cuda()\n",
    "        y = y.cuda()\n",
    "        yPred = model(x)\n",
    "        loss = criterion(yPred, y)\n",
    "\n",
    "        # backpropagation\n",
    "        loss.backward()\n",
    "        optimizer.step()\n",
    "        optimizer.zero_grad()\n",
    "\n",
    "        running_loss += loss.item()\n",
    "        print(loss)\n",
    "\n",
    "    # Print average loss per epoch\n",
    "    print(f\"Epoch {epoch+1}, Loss: {running_loss/len(trainLoader)}\")"
   ]
  },
  {
   "cell_type": "code",
   "execution_count": null,
   "id": "f2009abd-ffe8-4a62-bd8e-6551a835f8cc",
   "metadata": {},
   "outputs": [],
   "source": [
    "# Step 6: Validation/Test\n",
    "model.eval()\n",
    "with torch.no_grad():\n",
    "    for inputs, labels in val_loader:  # Assuming val_loader is DataLoader\n",
    "        outputs = model(inputs)\n",
    "        # Evaluate model performance (e.g., compute accuracy, loss, etc.)"
   ]
  }
 ],
 "metadata": {
  "kernelspec": {
   "display_name": "Python 3 (ipykernel)",
   "language": "python",
   "name": "python3"
  },
  "language_info": {
   "codemirror_mode": {
    "name": "ipython",
    "version": 3
   },
   "file_extension": ".py",
   "mimetype": "text/x-python",
   "name": "python",
   "nbconvert_exporter": "python",
   "pygments_lexer": "ipython3",
   "version": "3.8.18"
  }
 },
 "nbformat": 4,
 "nbformat_minor": 5
}
