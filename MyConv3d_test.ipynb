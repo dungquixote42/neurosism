{
 "cells": [
  {
   "cell_type": "code",
   "execution_count": 1,
   "id": "2c9b9d3d-f220-4c16-afc5-cc9a0689bd8e",
   "metadata": {},
   "outputs": [
    {
     "name": "stdout",
     "output_type": "stream",
     "text": [
      "torch.Size([1, 1, 3, 3, 3])\n",
      "torch.Size([1])\n"
     ]
    },
    {
     "data": {
      "text/plain": [
       "tensor([[[[ 1.4901e-08,  0.0000e+00,  0.0000e+00,  2.9802e-08],\n",
       "          [ 0.0000e+00,  1.4901e-08,  5.9605e-08,  0.0000e+00],\n",
       "          [ 0.0000e+00, -5.9605e-08, -1.4901e-08,  5.9605e-08],\n",
       "          [ 0.0000e+00,  1.4901e-08,  1.4901e-08,  0.0000e+00]],\n",
       "\n",
       "         [[-9.3132e-10,  2.9802e-08,  0.0000e+00,  0.0000e+00],\n",
       "          [ 0.0000e+00,  5.9605e-08, -5.9605e-08,  5.9605e-08],\n",
       "          [ 2.9802e-08,  1.4901e-08, -2.9802e-08, -3.7253e-08],\n",
       "          [-3.7253e-09, -4.4703e-08,  7.4506e-09,  0.0000e+00]],\n",
       "\n",
       "         [[ 0.0000e+00, -5.9605e-08, -2.2352e-08,  0.0000e+00],\n",
       "          [ 1.4901e-08,  0.0000e+00,  2.9802e-08,  0.0000e+00],\n",
       "          [ 7.4506e-09,  5.9605e-08,  5.9605e-08,  0.0000e+00],\n",
       "          [-1.4901e-08,  0.0000e+00,  0.0000e+00,  0.0000e+00]]]],\n",
       "       grad_fn=<SubBackward0>)"
      ]
     },
     "execution_count": 1,
     "metadata": {},
     "output_type": "execute_result"
    }
   ],
   "source": [
    "import torch\n",
    "seed = 42\n",
    "from torch import nn\n",
    "\n",
    "# With square kernels and equal stride\n",
    "inputChannelCount = 1\n",
    "outputChannelCount = 1\n",
    "kernelSize = 3\n",
    "\n",
    "input = torch.randn(outputChannelCount, inputChannelCount, 4, 4)\n",
    "\n",
    "torch.manual_seed(seed)\n",
    "m = nn.Conv3d(inputChannelCount, outputChannelCount, kernelSize, padding=(2, 1, 1))\n",
    "w = m.weight\n",
    "b = m.bias\n",
    "output = m(input)\n",
    "# print(output)\n",
    "\n",
    "torch.manual_seed(seed)\n",
    "from MyConv3d import MyConv3d\n",
    "m1 = MyConv3d(inputChannelCount, outputChannelCount, kernelSize, padding=(2, 1, 1))\n",
    "m1.weight = w\n",
    "m1.bias = b\n",
    "output1 = m1(input)\n",
    "# print(b)\n",
    "\n",
    "output - output1"
   ]
  },
  {
   "cell_type": "code",
   "execution_count": 4,
   "id": "4d9ab385-cfea-4348-a1e9-ae025843b695",
   "metadata": {},
   "outputs": [
    {
     "name": "stdout",
     "output_type": "stream",
     "text": [
      "torch.Size([1, 1, 3, 3, 3, 3])\n",
      "torch.Size([1])\n"
     ]
    }
   ],
   "source": [
    "from Conv4d import Conv4d\n",
    "\n",
    "input4d = torch.randn(outputChannelCount, inputChannelCount, 4, 4, 4)\n",
    "m4d = Conv4d(inputChannelCount, outputChannelCount, kernelSize, padding=(2, 1, 1, 1))\n",
    "output4d = m4d(input4d)"
   ]
  },
  {
   "cell_type": "code",
   "execution_count": 5,
   "id": "d7434178-0b51-4adb-8097-bcfefeb4dffc",
   "metadata": {},
   "outputs": [
    {
     "data": {
      "text/plain": [
       "tensor([[[[[ 0.0000e+00,  0.0000e+00,  0.0000e+00,  0.0000e+00],\n",
       "           [ 0.0000e+00,  0.0000e+00,  0.0000e+00,  0.0000e+00],\n",
       "           [ 0.0000e+00,  0.0000e+00,  0.0000e+00,  0.0000e+00],\n",
       "           [ 0.0000e+00,  0.0000e+00,  0.0000e+00,  0.0000e+00]],\n",
       "\n",
       "          [[ 0.0000e+00,  0.0000e+00,  0.0000e+00,  0.0000e+00],\n",
       "           [ 0.0000e+00,  0.0000e+00,  0.0000e+00,  0.0000e+00],\n",
       "           [ 0.0000e+00,  0.0000e+00,  0.0000e+00,  0.0000e+00],\n",
       "           [ 0.0000e+00,  0.0000e+00,  0.0000e+00,  0.0000e+00]],\n",
       "\n",
       "          [[ 0.0000e+00,  0.0000e+00,  0.0000e+00,  0.0000e+00],\n",
       "           [ 0.0000e+00,  0.0000e+00,  0.0000e+00,  0.0000e+00],\n",
       "           [ 0.0000e+00,  0.0000e+00,  0.0000e+00,  0.0000e+00],\n",
       "           [ 0.0000e+00,  0.0000e+00,  0.0000e+00,  0.0000e+00]],\n",
       "\n",
       "          [[ 0.0000e+00,  0.0000e+00,  0.0000e+00,  0.0000e+00],\n",
       "           [ 0.0000e+00,  0.0000e+00,  0.0000e+00,  0.0000e+00],\n",
       "           [ 0.0000e+00,  0.0000e+00,  0.0000e+00,  0.0000e+00],\n",
       "           [ 0.0000e+00,  0.0000e+00,  0.0000e+00,  0.0000e+00]]],\n",
       "\n",
       "\n",
       "         [[[ 0.0000e+00,  0.0000e+00,  0.0000e+00,  0.0000e+00],\n",
       "           [ 0.0000e+00,  0.0000e+00,  0.0000e+00,  0.0000e+00],\n",
       "           [ 0.0000e+00,  0.0000e+00,  0.0000e+00,  0.0000e+00],\n",
       "           [ 0.0000e+00,  0.0000e+00,  0.0000e+00,  0.0000e+00]],\n",
       "\n",
       "          [[ 0.0000e+00,  0.0000e+00,  0.0000e+00,  0.0000e+00],\n",
       "           [ 0.0000e+00,  0.0000e+00,  0.0000e+00,  0.0000e+00],\n",
       "           [ 0.0000e+00,  0.0000e+00,  0.0000e+00,  0.0000e+00],\n",
       "           [ 0.0000e+00,  0.0000e+00,  0.0000e+00,  0.0000e+00]],\n",
       "\n",
       "          [[ 0.0000e+00,  0.0000e+00,  0.0000e+00,  0.0000e+00],\n",
       "           [ 0.0000e+00,  0.0000e+00,  0.0000e+00,  0.0000e+00],\n",
       "           [ 0.0000e+00,  0.0000e+00,  0.0000e+00,  0.0000e+00],\n",
       "           [ 0.0000e+00,  0.0000e+00,  0.0000e+00,  0.0000e+00]],\n",
       "\n",
       "          [[ 0.0000e+00,  0.0000e+00,  0.0000e+00,  0.0000e+00],\n",
       "           [ 0.0000e+00,  0.0000e+00,  0.0000e+00,  0.0000e+00],\n",
       "           [ 0.0000e+00,  0.0000e+00,  0.0000e+00,  0.0000e+00],\n",
       "           [ 0.0000e+00,  0.0000e+00,  0.0000e+00,  0.0000e+00]]],\n",
       "\n",
       "\n",
       "         [[[ 0.0000e+00,  0.0000e+00,  0.0000e+00,  0.0000e+00],\n",
       "           [ 0.0000e+00,  0.0000e+00,  0.0000e+00,  0.0000e+00],\n",
       "           [ 0.0000e+00,  0.0000e+00,  0.0000e+00,  0.0000e+00],\n",
       "           [ 0.0000e+00,  0.0000e+00,  0.0000e+00,  0.0000e+00]],\n",
       "\n",
       "          [[ 0.0000e+00,  0.0000e+00,  0.0000e+00,  0.0000e+00],\n",
       "           [ 1.7278e-42, -7.3971e-24, -4.3837e-24, -1.1354e-23],\n",
       "           [ 4.1478e-43, -1.7744e-24,  1.0101e-24,  5.3981e-24],\n",
       "           [-2.0599e-43,  8.8138e-25, -2.6811e-24, -2.8983e-25]],\n",
       "\n",
       "          [[ 0.0000e+00,  0.0000e+00,  0.0000e+00,  0.0000e+00],\n",
       "           [ 1.2612e-44, -5.5630e-26,  1.7339e-24,  6.8624e-24],\n",
       "           [ 6.4039e-43, -2.7446e-24, -2.6854e-24, -5.8414e-24],\n",
       "           [ 8.8982e-43, -3.8080e-24,  2.4651e-24,  5.3718e-24]],\n",
       "\n",
       "          [[ 0.0000e+00,  0.0000e+00,  0.0000e+00,  0.0000e+00],\n",
       "           [-3.0002e-42,  1.2845e-23, -2.4979e-24, -4.0160e-24],\n",
       "           [ 7.6651e-43, -3.2798e-24, -2.9854e-24, -5.4612e-24],\n",
       "           [-2.2141e-43,  9.4832e-25, -3.8531e-24, -2.0718e-24]]]]],\n",
       "       grad_fn=<CopySlices>)"
      ]
     },
     "execution_count": 5,
     "metadata": {},
     "output_type": "execute_result"
    }
   ],
   "source": [
    "output4d"
   ]
  },
  {
   "cell_type": "code",
   "execution_count": null,
   "id": "11c21124-d8db-461d-a8d9-4c1cd56d7931",
   "metadata": {},
   "outputs": [],
   "source": []
  }
 ],
 "metadata": {
  "kernelspec": {
   "display_name": "Python 3 (ipykernel)",
   "language": "python",
   "name": "python3"
  },
  "language_info": {
   "codemirror_mode": {
    "name": "ipython",
    "version": 3
   },
   "file_extension": ".py",
   "mimetype": "text/x-python",
   "name": "python",
   "nbconvert_exporter": "python",
   "pygments_lexer": "ipython3",
   "version": "3.8.18"
  }
 },
 "nbformat": 4,
 "nbformat_minor": 5
}
