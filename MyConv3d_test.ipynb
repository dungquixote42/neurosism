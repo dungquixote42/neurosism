{
 "cells": [
  {
   "cell_type": "code",
   "execution_count": 1,
   "id": "3a6be73f-f90a-4a02-8333-259fb19f5069",
   "metadata": {},
   "outputs": [],
   "source": [
    "from sensorium_2023.sensorium.datasets.mouse_video_loaders import mouse_video_loader\n",
    "\n",
    "import numpy as np"
   ]
  },
  {
   "cell_type": "code",
   "execution_count": 17,
   "id": "3870e039-7402-4e5c-a8d2-b9c786ff73fa",
   "metadata": {},
   "outputs": [],
   "source": [
    "mouseKey = \"dynamic29623-4-9-Video-9b4f6a1a067fe51e15306b9628efea20\"\n",
    "\n",
    "dataPath = \"../sensorium_data/\"\n",
    "\n",
    "path = [\n",
    "    dataPath + mouseKey + \"/\"\n",
    "]\n",
    "\n",
    "device = 'cuda'\n",
    "\n",
    "dataLoaders = mouse_video_loader(\n",
    "    paths=path,\n",
    "    batch_size=16,\n",
    "    scale=1,\n",
    "    max_frame=None,\n",
    "    frames=60, # frames has to be > 50. If it fits on your gpu, we recommend 150\n",
    "    offset=-1,\n",
    "    include_behavior=True,\n",
    "    include_pupil_centers=True,\n",
    "    cuda=device!='cpu',\n",
    ")"
   ]
  },
  {
   "cell_type": "code",
   "execution_count": 5,
   "id": "a094a76e-531f-4d46-a1a8-bfb3a9217f43",
   "metadata": {},
   "outputs": [
    {
     "data": {
      "text/plain": [
       "dict_keys(['oracle', 'final_test_main', 'final_test_bonus', 'live_test_main', 'train', 'live_test_bonus'])"
      ]
     },
     "execution_count": 5,
     "metadata": {},
     "output_type": "execute_result"
    }
   ],
   "source": [
    "dataLoaders.keys()"
   ]
  },
  {
   "cell_type": "code",
   "execution_count": 11,
   "id": "73bda994-4727-44fb-bd08-f446e480762c",
   "metadata": {},
   "outputs": [
    {
     "data": {
      "text/plain": [
       "'dynamic29623-4-9-Video-9b4f6a1a067fe51e15306b9628efea20'"
      ]
     },
     "execution_count": 11,
     "metadata": {},
     "output_type": "execute_result"
    }
   ],
   "source": [
    "dataName = \"\"\n",
    "for key in dataLoaders[\"train\"].keys():\n",
    "    dataName = key\n",
    "dataName"
   ]
  },
  {
   "cell_type": "code",
   "execution_count": 16,
   "id": "a2bd5b88-a983-42a9-b280-754a86e14388",
   "metadata": {},
   "outputs": [
    {
     "data": {
      "text/plain": [
       "<torch.utils.data.dataloader.DataLoader at 0x23d0e85c3d0>"
      ]
     },
     "execution_count": 16,
     "metadata": {},
     "output_type": "execute_result"
    }
   ],
   "source": [
    "dataLoaders[\"train\"][dataName]"
   ]
  },
  {
   "cell_type": "code",
   "execution_count": 29,
   "id": "5efe7b5b-fb47-4c39-aff9-8c5b53496955",
   "metadata": {},
   "outputs": [
    {
     "data": {
      "text/plain": [
       "(7908, 3)"
      ]
     },
     "execution_count": 29,
     "metadata": {},
     "output_type": "execute_result"
    }
   ],
   "source": [
    "# [index][XYZ]\n",
    "coordinates = np.load(dataPath + mouseKey + \"/meta/neurons/cell_motor_coordinates.npy\")\n",
    "coordinates.shape"
   ]
  },
  {
   "cell_type": "code",
   "execution_count": 32,
   "id": "43627e67-3411-4939-9ebd-8ce488705c79",
   "metadata": {},
   "outputs": [
    {
     "data": {
      "text/plain": [
       "(7908, 325)"
      ]
     },
     "execution_count": 32,
     "metadata": {},
     "output_type": "execute_result"
    }
   ],
   "source": [
    "# [index][time]\n",
    "responses = np.load(dataPath + mouseKey + \"/data/responses/0.npy\")\n",
    "responses.shape"
   ]
  },
  {
   "cell_type": "code",
   "execution_count": 34,
   "id": "8c5dd28b-3616-4bbd-b70d-540f51a80afb",
   "metadata": {},
   "outputs": [
    {
     "data": {
      "text/plain": [
       "(36, 64, 325)"
      ]
     },
     "execution_count": 34,
     "metadata": {},
     "output_type": "execute_result"
    }
   ],
   "source": [
    "# [height][width][time]\n",
    "videos = np.load(dataPath + mouseKey + \"/data/videos/0.npy\")\n",
    "videos.shape"
   ]
  },
  {
   "cell_type": "code",
   "execution_count": 36,
   "id": "cd2b78d0-9851-4996-8cec-7a67d3e3f78a",
   "metadata": {},
   "outputs": [
    {
     "data": {
      "text/plain": [
       "'D:\\\\Users\\\\divad\\\\miniconda3\\\\envs\\\\py38\\\\lib\\\\site-packages\\\\neuralpredictors\\\\__init__.py'"
      ]
     },
     "execution_count": 36,
     "metadata": {},
     "output_type": "execute_result"
    }
   ],
   "source": [
    "import neuralpredictors\n",
    "neuralpredictors.__file__"
   ]
  },
  {
   "cell_type": "code",
   "execution_count": 2,
   "id": "2c9b9d3d-f220-4c16-afc5-cc9a0689bd8e",
   "metadata": {},
   "outputs": [
    {
     "name": "stdout",
     "output_type": "stream",
     "text": [
      "tensor([[[[[ 0.3117,  0.3117,  0.3117,  0.3117],\n",
      "           [ 0.3117,  0.3117,  0.3117,  0.3117],\n",
      "           [ 0.3117,  0.3117,  0.3117,  0.3117],\n",
      "           [ 0.3117,  0.3117,  0.3117,  0.3117]],\n",
      "\n",
      "          [[ 0.2124,  0.3435,  0.1595,  0.4725],\n",
      "           [ 0.2260,  0.1232,  0.3726,  0.4663],\n",
      "           [ 0.4020,  0.4962,  0.0388,  0.3899],\n",
      "           [ 0.3488,  0.3885,  0.1674,  0.3302]],\n",
      "\n",
      "          [[ 0.6387, -0.3275,  0.6100,  0.0444],\n",
      "           [ 0.3533, -0.2630, -0.3281,  0.1025],\n",
      "           [ 0.7066,  0.0937, -0.5408,  0.3588],\n",
      "           [ 0.5556,  0.7861,  0.7033,  0.2852]],\n",
      "\n",
      "          [[ 1.1162, -0.4658,  1.2520,  0.1301],\n",
      "           [ 0.6809,  1.3849,  0.0513,  1.1606],\n",
      "           [ 0.6165,  0.9694,  0.0134,  0.3173],\n",
      "           [ 0.6588,  0.5439, -0.1253,  0.2265]],\n",
      "\n",
      "          [[ 0.3901, -0.0691,  0.4334,  0.3041],\n",
      "           [-0.3699,  0.1724, -0.3935,  0.4511],\n",
      "           [-0.4968, -0.0845, -0.4217, -0.0111],\n",
      "           [ 0.1956,  0.4405,  0.3464,  0.1437]],\n",
      "\n",
      "          [[ 0.3117,  0.3117,  0.3117,  0.3117],\n",
      "           [ 0.3117,  0.3117,  0.3117,  0.3117],\n",
      "           [ 0.3117,  0.3117,  0.3117,  0.3117],\n",
      "           [ 0.3117,  0.3117,  0.3117,  0.3117]]]],\n",
      "\n",
      "\n",
      "\n",
      "        [[[[ 0.3117,  0.3117,  0.3117,  0.3117],\n",
      "           [ 0.3117,  0.3117,  0.3117,  0.3117],\n",
      "           [ 0.3117,  0.3117,  0.3117,  0.3117],\n",
      "           [ 0.3117,  0.3117,  0.3117,  0.3117]],\n",
      "\n",
      "          [[ 0.1888,  0.4005,  0.1505,  0.4543],\n",
      "           [ 0.3381, -0.0273,  0.5922,  0.3206],\n",
      "           [ 0.6620, -0.2715,  0.8732,  0.0609],\n",
      "           [ 0.4239,  0.1295,  0.4708,  0.2100]],\n",
      "\n",
      "          [[ 0.2621, -0.0042,  0.1427,  0.4570],\n",
      "           [ 0.5945, -0.6020,  0.6505, -0.2861],\n",
      "           [ 1.1316, -0.5298,  0.4724,  0.1519],\n",
      "           [ 0.8108,  0.4731,  0.4273,  0.6817]],\n",
      "\n",
      "          [[ 0.3159, -0.0777,  0.3542,  0.3782],\n",
      "           [ 1.0162,  0.2845,  0.6621, -0.0526],\n",
      "           [ 1.0624,  0.7541,  0.7796,  1.2743],\n",
      "           [ 0.5062,  0.4645,  0.2398,  0.4293]],\n",
      "\n",
      "          [[-0.0308,  0.1484,  0.3197,  0.3259],\n",
      "           [ 0.1723, -0.2249,  0.1863,  0.2298],\n",
      "           [ 0.6521,  0.2138, -0.2114,  0.6097],\n",
      "           [ 0.4804,  0.2788, -0.5093, -0.2847]],\n",
      "\n",
      "          [[ 0.3117,  0.3117,  0.3117,  0.3117],\n",
      "           [ 0.3117,  0.3117,  0.3117,  0.3117],\n",
      "           [ 0.3117,  0.3117,  0.3117,  0.3117],\n",
      "           [ 0.3117,  0.3117,  0.3117,  0.3117]]]]],\n",
      "       grad_fn=<ConvolutionBackward0>)\n",
      "tensor([[[[[ 0.3117,  0.3117,  0.3117,  0.3117],\n",
      "           [ 0.3117,  0.3117,  0.3117,  0.3117],\n",
      "           [ 0.3117,  0.3117,  0.3117,  0.3117],\n",
      "           [ 0.3117,  0.3117,  0.3117,  0.3117]],\n",
      "\n",
      "          [[ 0.2124,  0.3435,  0.1595,  0.4725],\n",
      "           [ 0.2260,  0.1232,  0.3726,  0.4663],\n",
      "           [ 0.4020,  0.4962,  0.0388,  0.3899],\n",
      "           [ 0.3488,  0.3885,  0.1674,  0.3302]],\n",
      "\n",
      "          [[ 0.6387, -0.3275,  0.6100,  0.0444],\n",
      "           [ 0.3533, -0.2630, -0.3281,  0.1025],\n",
      "           [ 0.7066,  0.0937, -0.5408,  0.3588],\n",
      "           [ 0.5556,  0.7861,  0.7033,  0.2852]],\n",
      "\n",
      "          [[ 1.1162, -0.4658,  1.2520,  0.1301],\n",
      "           [ 0.6809,  1.3849,  0.0513,  1.1606],\n",
      "           [ 0.6165,  0.9694,  0.0134,  0.3173],\n",
      "           [ 0.6588,  0.5439, -0.1253,  0.2265]],\n",
      "\n",
      "          [[ 0.3901, -0.0691,  0.4334,  0.3041],\n",
      "           [-0.3699,  0.1724, -0.3935,  0.4511],\n",
      "           [-0.4968, -0.0845, -0.4217, -0.0111],\n",
      "           [ 0.1956,  0.4405,  0.3464,  0.1437]],\n",
      "\n",
      "          [[ 0.3117,  0.3117,  0.3117,  0.3117],\n",
      "           [ 0.3117,  0.3117,  0.3117,  0.3117],\n",
      "           [ 0.3117,  0.3117,  0.3117,  0.3117],\n",
      "           [ 0.3117,  0.3117,  0.3117,  0.3117]]]],\n",
      "\n",
      "\n",
      "\n",
      "        [[[[ 0.3117,  0.3117,  0.3117,  0.3117],\n",
      "           [ 0.3117,  0.3117,  0.3117,  0.3117],\n",
      "           [ 0.3117,  0.3117,  0.3117,  0.3117],\n",
      "           [ 0.3117,  0.3117,  0.3117,  0.3117]],\n",
      "\n",
      "          [[ 0.1888,  0.4005,  0.1505,  0.4543],\n",
      "           [ 0.3381, -0.0273,  0.5922,  0.3206],\n",
      "           [ 0.6620, -0.2715,  0.8733,  0.0609],\n",
      "           [ 0.4239,  0.1295,  0.4708,  0.2100]],\n",
      "\n",
      "          [[ 0.2621, -0.0042,  0.1427,  0.4570],\n",
      "           [ 0.5945, -0.6020,  0.6505, -0.2861],\n",
      "           [ 1.1316, -0.5298,  0.4724,  0.1519],\n",
      "           [ 0.8108,  0.4731,  0.4273,  0.6817]],\n",
      "\n",
      "          [[ 0.3159, -0.0777,  0.3542,  0.3782],\n",
      "           [ 1.0162,  0.2845,  0.6621, -0.0526],\n",
      "           [ 1.0624,  0.7541,  0.7796,  1.2743],\n",
      "           [ 0.5062,  0.4645,  0.2398,  0.4293]],\n",
      "\n",
      "          [[-0.0308,  0.1484,  0.3197,  0.3259],\n",
      "           [ 0.1723, -0.2249,  0.1863,  0.2298],\n",
      "           [ 0.6521,  0.2138, -0.2114,  0.6097],\n",
      "           [ 0.4804,  0.2788, -0.5093, -0.2847]],\n",
      "\n",
      "          [[ 0.3117,  0.3117,  0.3117,  0.3117],\n",
      "           [ 0.3117,  0.3117,  0.3117,  0.3117],\n",
      "           [ 0.3117,  0.3117,  0.3117,  0.3117],\n",
      "           [ 0.3117,  0.3117,  0.3117,  0.3117]]]]], grad_fn=<CopySlices>)\n"
     ]
    }
   ],
   "source": [
    "import torch\n",
    "seed = 42\n",
    "from torch import nn\n",
    "\n",
    "# With square kernels and equal stride\n",
    "inputChannelCount = 1\n",
    "outputChannelCount = 1\n",
    "kernelSize = 2\n",
    "\n",
    "input = torch.randn(2, inputChannelCount, 3, 3, 3)\n",
    "\n",
    "torch.manual_seed(seed)\n",
    "m = nn.Conv3d(inputChannelCount, outputChannelCount, kernelSize, padding=(2, 1, 1))\n",
    "output = m(input)\n",
    "print(output)\n",
    "\n",
    "torch.manual_seed(seed)\n",
    "from MyConv3d import MyConv3d\n",
    "a = MyConv3d(inputChannelCount, outputChannelCount, kernelSize, padding=(2, 1, 1))\n",
    "b = a(input)\n",
    "print(b)"
   ]
  },
  {
   "cell_type": "code",
   "execution_count": 2,
   "id": "ab4d33c5-fe9e-4828-8030-f5290aae1d18",
   "metadata": {},
   "outputs": [
    {
     "data": {
      "text/plain": [
       "tensor([[[[-0.6740, -0.2710, -0.2715],\n",
       "          [-0.3297, -0.5498, -1.2978],\n",
       "          [-0.5920,  0.0497,  1.5713]],\n",
       "\n",
       "         [[-0.2916, -0.9973,  0.1972],\n",
       "          [ 0.0674, -1.8194,  0.7509],\n",
       "          [ 0.3027, -0.4425,  1.1743]],\n",
       "\n",
       "         [[-0.6304,  0.5317,  0.9333],\n",
       "          [ 0.9651, -0.9091,  0.5259],\n",
       "          [ 0.3829, -0.3612,  0.0952]]]])"
      ]
     },
     "execution_count": 2,
     "metadata": {},
     "output_type": "execute_result"
    }
   ],
   "source": [
    "input[0]"
   ]
  },
  {
   "cell_type": "code",
   "execution_count": 6,
   "id": "b77c0815-7e45-4a8b-8441-c7cc5e6ce0ca",
   "metadata": {},
   "outputs": [
    {
     "name": "stdout",
     "output_type": "stream",
     "text": [
      "tensor([[[[1.1468, 1.1468],\n",
      "          [1.1468, 1.1468]],\n",
      "\n",
      "         [[1.1468, 1.1468],\n",
      "          [1.1468, 1.1468]]]], grad_fn=<CopySlices>)\n"
     ]
    }
   ],
   "source": []
  },
  {
   "cell_type": "code",
   "execution_count": 5,
   "id": "06bd7b9e-f5ac-408b-8d41-4a36463afded",
   "metadata": {},
   "outputs": [
    {
     "data": {
      "text/plain": [
       "tensor([[[[ 1.4086,  1.3309],\n",
       "          [ 0.0480, -0.5683]],\n",
       "\n",
       "         [[-0.0818, -0.2164],\n",
       "          [-0.5283,  0.1489]]]], grad_fn=<SqueezeBackward1>)"
      ]
     },
     "execution_count": 5,
     "metadata": {},
     "output_type": "execute_result"
    }
   ],
   "source": [
    "output"
   ]
  },
  {
   "cell_type": "code",
   "execution_count": 6,
   "id": "1d19afb7-84e3-48d6-8e06-7475b534d80e",
   "metadata": {},
   "outputs": [
    {
     "data": {
      "text/plain": [
       "tensor([[[[1.2727, 1.2271],\n",
       "          [0.5473, 0.2352]],\n",
       "\n",
       "         [[0.5509, 0.6326],\n",
       "          [0.4125, 0.4190]]]], grad_fn=<SubBackward0>)"
      ]
     },
     "execution_count": 6,
     "metadata": {},
     "output_type": "execute_result"
    }
   ],
   "source": [
    "output - b"
   ]
  },
  {
   "cell_type": "code",
   "execution_count": 9,
   "id": "1edbb580-8849-4ff4-a6e1-e6ac1321ec2b",
   "metadata": {},
   "outputs": [
    {
     "data": {
      "text/plain": [
       "torch.Size([1, 2, 2, 2])"
      ]
     },
     "execution_count": 9,
     "metadata": {},
     "output_type": "execute_result"
    }
   ],
   "source": [
    "output.shape"
   ]
  },
  {
   "cell_type": "code",
   "execution_count": 10,
   "id": "f7899ac5-d651-4c21-adae-093e08dbe7fe",
   "metadata": {},
   "outputs": [
    {
     "data": {
      "text/plain": [
       "tensor([[[[-0.3453,  0.7976, -0.6352],\n",
       "          [-0.3357, -1.0160,  1.2257],\n",
       "          [ 0.0166,  1.2200, -1.7745]],\n",
       "\n",
       "         [[ 0.1204,  1.2946, -0.0129],\n",
       "          [ 1.6046,  0.8597,  0.0955],\n",
       "          [-0.2830,  0.9254, -0.8677]],\n",
       "\n",
       "         [[-0.1420,  0.5461,  0.1550],\n",
       "          [-1.1624,  0.4973, -0.2556],\n",
       "          [-0.7221,  0.1805, -0.1423]]]])"
      ]
     },
     "execution_count": 10,
     "metadata": {},
     "output_type": "execute_result"
    }
   ],
   "source": [
    "input"
   ]
  },
  {
   "cell_type": "code",
   "execution_count": 11,
   "id": "ba05ed67-52e2-491e-b58c-b29a2ac3b40e",
   "metadata": {},
   "outputs": [
    {
     "data": {
      "text/plain": [
       "tensor([[[[ 0.3472, -0.2566],\n",
       "          [-0.0701, -0.0668]],\n",
       "\n",
       "         [[-0.3615,  0.1715],\n",
       "          [-0.3272,  0.1298]]]], grad_fn=<SqueezeBackward1>)"
      ]
     },
     "execution_count": 11,
     "metadata": {},
     "output_type": "execute_result"
    }
   ],
   "source": [
    "output"
   ]
  },
  {
   "cell_type": "code",
   "execution_count": 5,
   "id": "92193002-94ad-4675-887a-e6e61c1f1c2a",
   "metadata": {},
   "outputs": [
    {
     "name": "stdout",
     "output_type": "stream",
     "text": [
      "(2, 2, 2)\n",
      "(2, 2, 2)\n",
      "(7, 7, 7)\n",
      "torch.Size([7, 7, 7])\n"
     ]
    },
    {
     "data": {
      "text/plain": [
       "torch.Size([7, 7, 7])"
      ]
     },
     "execution_count": 5,
     "metadata": {},
     "output_type": "execute_result"
    }
   ],
   "source": [
    "import MyConv3d\n",
    "import torch\n",
    "t1 = torch.randn(2, 2, 2)\n",
    "t2 = torch.randn(2, 2, 2)\n",
    "output1 = MyConv3d._cross_correlation_3d(t1, t2)\n",
    "output1.shape\n",
    "# import torch.nn.functional as F\n",
    "# output2 = F.conv3d(t1, t2)"
   ]
  },
  {
   "cell_type": "code",
   "execution_count": 11,
   "id": "74ee4aad-0fc5-487b-9cf6-2b992bb6600c",
   "metadata": {},
   "outputs": [
    {
     "data": {
      "text/plain": [
       "tensor([[[ 1.5843,  0.1467],\n",
       "         [-0.5280,  1.8272]],\n",
       "\n",
       "        [[-1.5803, -0.5843],\n",
       "         [ 1.2177, -0.0532]]])"
      ]
     },
     "execution_count": 11,
     "metadata": {},
     "output_type": "execute_result"
    }
   ],
   "source": [
    "d = torch.randn(2, 2, 2)\n",
    "d"
   ]
  },
  {
   "cell_type": "code",
   "execution_count": 12,
   "id": "857b732c-8ca1-4a0d-99bb-634cd152f97e",
   "metadata": {},
   "outputs": [
    {
     "data": {
      "text/plain": [
       "tensor([[ 1.5843,  0.1467],\n",
       "        [-0.5280,  1.8272]])"
      ]
     },
     "execution_count": 12,
     "metadata": {},
     "output_type": "execute_result"
    }
   ],
   "source": [
    "d[:][0][:]"
   ]
  },
  {
   "cell_type": "code",
   "execution_count": 13,
   "id": "79c35133-edd5-4146-a483-3fd3c5915c9a",
   "metadata": {},
   "outputs": [
    {
     "data": {
      "text/plain": [
       "tensor([[ 1.5843,  0.1467],\n",
       "        [-0.5280,  1.8272]])"
      ]
     },
     "execution_count": 13,
     "metadata": {},
     "output_type": "execute_result"
    }
   ],
   "source": [
    "d[0][:][:]"
   ]
  },
  {
   "cell_type": "code",
   "execution_count": 19,
   "id": "c058fa16-f4c8-4f26-a7b1-eb9756f98ca4",
   "metadata": {},
   "outputs": [
    {
     "data": {
      "text/plain": [
       "tensor([[ 1.5843,  0.1467],\n",
       "        [-0.5280,  1.8272]])"
      ]
     },
     "execution_count": 19,
     "metadata": {},
     "output_type": "execute_result"
    }
   ],
   "source": [
    "d[...][:][0]"
   ]
  },
  {
   "cell_type": "code",
   "execution_count": 6,
   "id": "540d46ca-4463-4eed-8d38-a5f3798e74e6",
   "metadata": {},
   "outputs": [
    {
     "name": "stdout",
     "output_type": "stream",
     "text": [
      "4D Cross-correlation result: torch.Size([1, 1, 3, 3, 3])\n"
     ]
    }
   ],
   "source": [
    "import torch\n",
    "import torch.nn.functional as F\n",
    "\n",
    "# Example 4D tensors (volumes)\n",
    "tensor1 = torch.rand(1, 2, 5, 5, 5)  # Shape: [batch_size, channels, depth, height, width]\n",
    "tensor2 = torch.rand(1, 2, 3, 3, 3)  # Shape: [batch_size, channels, kernel_depth, kernel_height, kernel_width]\n",
    "\n",
    "# Apply 4D cross-correlation using conv3d\n",
    "result = F.conv3d(tensor1, tensor2)\n",
    "\n",
    "print(\"4D Cross-correlation result:\", result.shape)\n"
   ]
  },
  {
   "cell_type": "code",
   "execution_count": null,
   "id": "aa7442d9-5b26-4707-9013-668fb7208da6",
   "metadata": {},
   "outputs": [],
   "source": []
  }
 ],
 "metadata": {
  "kernelspec": {
   "display_name": "Python 3 (ipykernel)",
   "language": "python",
   "name": "python3"
  },
  "language_info": {
   "codemirror_mode": {
    "name": "ipython",
    "version": 3
   },
   "file_extension": ".py",
   "mimetype": "text/x-python",
   "name": "python",
   "nbconvert_exporter": "python",
   "pygments_lexer": "ipython3",
   "version": "3.8.18"
  }
 },
 "nbformat": 4,
 "nbformat_minor": 5
}
