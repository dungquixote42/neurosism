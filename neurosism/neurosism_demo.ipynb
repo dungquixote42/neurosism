{
 "cells": [
  {
   "cell_type": "code",
   "execution_count": 2,
   "id": "06a95d7e-5d1a-4b2b-ae21-48b2d6aff23d",
   "metadata": {},
   "outputs": [],
   "source": [
    "# # Step 0: Setup and Test\n",
    "# from IPython.display import HTML\n",
    "# from matplotlib import animation\n",
    "# import matplotlib.pyplot as plt\n",
    "# from helpers import *\n",
    "\n",
    "# dataPath = \"../sensorium_data/\"\n",
    "# mouseId = \"dynamic29156-11-10-Video-8744edeac3b4d1ce16b680916b5267ce\"\n",
    "\n",
    "# vid = np.load(dataPath + mouseId + \"/data/videos/0.npy\")\n",
    "# vid = reshape_video_hwd_to_dhw(vid)\n",
    "\n",
    "# %matplotlib inline\n",
    "# # an equal aspect (square), and turn the axes off\n",
    "# fig, ax = plt.subplots()\n",
    "# ax.set_aspect(\"equal\")\n",
    "# ax.set_axis_off()\n",
    "\n",
    "# # Images are generated and stored in a list to animate later\n",
    "# images_vid = []\n",
    "# images_as_array = []\n",
    "# for image in vid:\n",
    "#     # Scatter plot each point using a dot of size 250 and color red\n",
    "#     #images_vid.append([ax.imshow(image,cmap='gray')])\n",
    "#     images_vid.append([ax.imshow(image, cmap='gray')])\n",
    "#     images_as_array.append(image)\n",
    "# # The animation can now be created using ArtistAnimation\n",
    "# anim = animation.ArtistAnimation(fig,\n",
    "#                                 images_vid,\n",
    "#                                 interval= 1000 / 30,\n",
    "#                                 blit=True,\n",
    "#                                 repeat=False\n",
    "#                                 )\n",
    "# HTML(anim.to_jshtml())"
   ]
  },
  {
   "cell_type": "code",
   "execution_count": 3,
   "id": "3319555e-ea13-4b77-b1e2-609653ff8942",
   "metadata": {},
   "outputs": [],
   "source": [
    "# import numpy as np\n",
    "# # Step 1: Data Preparation\n",
    "# # [index][XYZ]\n",
    "# coordinates = np.load(dataPath + mouseId + \"/meta/neurons/cell_motor_coordinates.npy\")\n",
    "# print(coordinates.shape)\n",
    "\n",
    "# # responses = []\n",
    "# # responsesPath = dataPath + mousePath + \"/data/responses/\"\n",
    "# # for fileName in os.listdir(responsesPath):\n",
    "# #     responses.append(np.load(responsesPath + fileName))\n",
    "\n",
    "# # [index][time]\n",
    "# responses = np.load(dataPath + mouseId + \"/data/responses/0.npy\")\n",
    "# print(responses.shape)\n",
    "\n",
    "# # [height][width][time]\n",
    "# videos = np.load(dataPath + mouseId + \"/data/videos/0.npy\")\n",
    "# print(videos.shape)\n",
    "\n",
    "# neuronCount = responses.shape[0]\n",
    "# frameCount = videos.shape[2]\n",
    "\n",
    "# responses[0][50:]"
   ]
  },
  {
   "cell_type": "code",
   "execution_count": 6,
   "id": "c00aeb22-f2e0-4a1c-a3cd-8c739ba4d1b8",
   "metadata": {},
   "outputs": [],
   "source": [
    "# import scipy.sparse as sp\n",
    "# from scipy import ndimage\n",
    "\n",
    "# # Example sparse 3D data (COO format)\n",
    "# data = [1, 2.3, 3]\n",
    "# indices = [[0, 1, 2], [1, 5, 0], [2, 0, 1]]\n",
    "# sparse_3d_data = sp.coo_matrix((data, (indices[0], indices[1])))\n",
    "# print(sparse_3d_data)\n",
    "# sparse_3d_data.shape\n",
    "\n",
    "# zoom = (2, 0.5)\n",
    "# new_sparse_3d_data = ndimage.zoom(sparse_3d_data.toarray(), zoom)  # Using nearest-neighbor interpolation\n",
    "# print(new_sparse_3d_data)\n",
    "# new_sparse_3d_data.shape"
   ]
  },
  {
   "cell_type": "code",
   "execution_count": 3,
   "id": "7b668982-4623-4272-9119-a89c4eeb5d37",
   "metadata": {},
   "outputs": [
    {
     "data": {
      "text/plain": [
       "5873"
      ]
     },
     "execution_count": 3,
     "metadata": {},
     "output_type": "execute_result"
    }
   ],
   "source": [
    "# (_, I, J, K) = a.shape\n",
    "# count = 0\n",
    "# indices = [(i, j, k) for i in range(I) for j in range(J) for k in range(K)]\n",
    "# for i, j, k in indices:\n",
    "#     if a[0][i][j][k] > 0:\n",
    "#         count += 1\n",
    "# count"
   ]
  },
  {
   "cell_type": "code",
   "execution_count": 2,
   "id": "53cea580-f97f-4fa6-918a-321518d30dbb",
   "metadata": {},
   "outputs": [
    {
     "name": "stdout",
     "output_type": "stream",
     "text": [
      "Using cuda device\n"
     ]
    }
   ],
   "source": [
    "import numpy as np\n",
    "\n",
    "import os\n",
    "\n",
    "import torch\n",
    "import torch.nn as nn\n",
    "import torch.optim as optim\n",
    "from torch.utils.data import DataLoader\n",
    "import torchvision\n",
    "\n",
    "device = (\n",
    "    \"cuda\"\n",
    "    if torch.cuda.is_available()\n",
    "    else \"mps\"\n",
    "    if torch.backends.mps.is_available()\n",
    "    else \"cpu\"\n",
    ")\n",
    "print(f\"Using {device} device\")\n",
    "\n",
    "TRAIN_COUNT = 60\n",
    "VALIDATION_COUNT = 20\n",
    "TEST_COUNT = 20"
   ]
  },
  {
   "cell_type": "code",
   "execution_count": null,
   "id": "a10611c7-22af-4dd3-a43b-0e1cb0d4eced",
   "metadata": {},
   "outputs": [],
   "source": [
    "# 188 x 220 x 252\n",
    "# 186 x 218 x 250\n",
    "# 184 x 216 x 248\n",
    "\n",
    "# 92 x 108 x 124\n",
    "# 90 x 106 x 122\n",
    "# 88 x 104 x 120\n",
    "\n",
    "# 44 x 52 x 60\n",
    "# 42 x 50 x 58\n",
    "# 40 x 48 x 56\n",
    "\n",
    "# 20 x 24 x 28\n",
    "# 18 x 22 x 26\n",
    "# 16 x 20 x 24\n",
    "\n",
    "# 8 x 10 x 12\n",
    "# 6 x 8 x 10\n",
    "# 4 x 6 x 8\n",
    "\n",
    "# 8 x 12 x 16\n",
    "# 6 x 10 x 14\n",
    "# 4 x 8 x 12\n",
    "\n",
    "# 8 x 16 x 24\n",
    "# 6 x 14 x 22\n",
    "# 4 x 12 x 20\n",
    "\n",
    "# 8 x 24 x 40\n",
    "# 6 x 22 x 38\n",
    "# 4 x 20 x 36\n",
    "\n",
    "# 8 x 40 x 72\n",
    "# 6 x 38 x 70\n",
    "# 4 x 36 x 68\n",
    "\n",
    "###\n",
    "\n",
    "# 100 x 116 x 132\n",
    "# 98 x 114 x 130\n",
    "# 96 x 112 x 128\n",
    "\n",
    "# 48 x 56 x 64\n",
    "# 46 x 54 x 62\n",
    "# 44 x 52 x 60\n",
    "\n",
    "# 22 x 26 x 30\n",
    "# 20 x 24 x 28\n",
    "# 18 x 22 x 26\n",
    "\n",
    "# 9 x 11 x 13\n",
    "# 7 x 9 x 11\n",
    "# 5 x 7 x 9\n",
    "\n",
    "# 10 x 14 x 18\n",
    "# 9 x 13 x 17\n",
    "# 7 x 11 x 15\n",
    "# 5 x 9 x 13\n",
    "\n",
    "# 10 x 18 x 26\n",
    "# 9 x 17 x 25\n",
    "# 7 x 15 x 23\n",
    "# 5 x 13 x 21\n",
    "\n",
    "# 10 x 26 x 42\n",
    "# 9 x 25 x 41\n",
    "# 7 x 23 x 39\n",
    "# 5 x 21 x 37\n",
    "\n",
    "# 10 x 42 x 74\n",
    "# 9 x 41 x 73\n",
    "# 7 x 39 x 71\n",
    "# 5 x 36 x 69"
   ]
  },
  {
   "cell_type": "code",
   "execution_count": 3,
   "id": "41ce1b99-9c47-4ce1-9f1e-87ee68f7e7a9",
   "metadata": {},
   "outputs": [
    {
     "name": "stdout",
     "output_type": "stream",
     "text": [
      "torch.Size([1, 5, 355, 531]) torch.Size([1, 1, 36, 64])\n"
     ]
    }
   ],
   "source": [
    "from datasets.NeurosismDataset import *\n",
    "import torchvision.transforms as tf\n",
    "\n",
    "dataPath = \"../../sensorium_data/\"\n",
    "mouseId = \"dynamic29156-11-10-Video-8744edeac3b4d1ce16b680916b5267ce\"\n",
    "\n",
    "# overlayCount = 20, zyx order\n",
    "# poolFactor =  4 -> 7180 nonzero\n",
    "# poolFactor =  8 -> 7204 nonzero\n",
    "# poolFactor = 16 -> 6462 nonzero\n",
    "# poolFactor = (2.28, 3.23, 4.22) -> 188 x 220 x 252, 7436 nonzero\n",
    "# poolFactor = (4.7, 6.61, 8.61) -> 92 x 108 x 124, 7406 nonzero\n",
    "# poolFactor = (4.3, 6.2, 8.1) -> 100 x 116 x 132, 7417 nonzero\n",
    "# poolFactor = (3.35, 5.6, 8.35) -> 128 x 128 x 128, 7063 nonzero\n",
    "\n",
    "# overlayCount = 20, xyz order\n",
    "# 12 -> 7198\n",
    "# 11 -> 7267\n",
    "# 10 -> 7293\n",
    "# 9 -> 7027\n",
    "\n",
    "overlayCount = 20\n",
    "myDataset = NeurosismDataset(overlayCount, dataPath + mouseId, (122, 2, 2), densify=False, seed=42)\n",
    "x, y = myDataset[0]\n",
    "print(x.shape, y.shape)"
   ]
  },
  {
   "cell_type": "code",
   "execution_count": 4,
   "id": "8e258b05-2dfe-4c78-8db5-10d853be8f39",
   "metadata": {},
   "outputs": [
    {
     "name": "stdout",
     "output_type": "stream",
     "text": [
      "7327\n"
     ]
    }
   ],
   "source": [
    "batchSize = 1\n",
    "shuffle = True\n",
    "numWorkers = 4\n",
    "myDataloader = DataLoader(myDataset, batch_size=batchSize, shuffle=shuffle, num_workers=numWorkers)\n",
    "\n",
    "for x, y in myDataloader:\n",
    "    break\n",
    "\n",
    "print(get_nonzero_count(x[0][0]))"
   ]
  },
  {
   "cell_type": "code",
   "execution_count": 6,
   "id": "ea66dc8c-0e25-48ae-8597-e9e8d6de726b",
   "metadata": {},
   "outputs": [
    {
     "ename": "RuntimeError",
     "evalue": "Given groups=1, weight of size [64, 1, 3, 3, 3], expected input[1, 64, 5, 177, 177] to have 1 channels, but got 64 channels instead",
     "output_type": "error",
     "traceback": [
      "\u001b[1;31m---------------------------------------------------------------------------\u001b[0m",
      "\u001b[1;31mRuntimeError\u001b[0m                              Traceback (most recent call last)",
      "Cell \u001b[1;32mIn[6], line 4\u001b[0m\n\u001b[0;32m      1\u001b[0m \u001b[38;5;28;01mfrom\u001b[39;00m \u001b[38;5;21;01mmodels\u001b[39;00m\u001b[38;5;21;01m.\u001b[39;00m\u001b[38;5;21;01mUNet\u001b[39;00m \u001b[38;5;28;01mimport\u001b[39;00m \u001b[38;5;241m*\u001b[39m\n\u001b[0;32m      3\u001b[0m model \u001b[38;5;241m=\u001b[39m UNet()\n\u001b[1;32m----> 4\u001b[0m \u001b[43mmodel\u001b[49m\u001b[43m(\u001b[49m\u001b[43mx\u001b[49m\u001b[43m)\u001b[49m\n",
      "File \u001b[1;32mD:\\Users\\divad\\miniconda3\\envs\\py38\\lib\\site-packages\\torch\\nn\\modules\\module.py:1518\u001b[0m, in \u001b[0;36mModule._wrapped_call_impl\u001b[1;34m(self, *args, **kwargs)\u001b[0m\n\u001b[0;32m   1516\u001b[0m     \u001b[38;5;28;01mreturn\u001b[39;00m \u001b[38;5;28mself\u001b[39m\u001b[38;5;241m.\u001b[39m_compiled_call_impl(\u001b[38;5;241m*\u001b[39margs, \u001b[38;5;241m*\u001b[39m\u001b[38;5;241m*\u001b[39mkwargs)  \u001b[38;5;66;03m# type: ignore[misc]\u001b[39;00m\n\u001b[0;32m   1517\u001b[0m \u001b[38;5;28;01melse\u001b[39;00m:\n\u001b[1;32m-> 1518\u001b[0m     \u001b[38;5;28;01mreturn\u001b[39;00m \u001b[38;5;28;43mself\u001b[39;49m\u001b[38;5;241;43m.\u001b[39;49m\u001b[43m_call_impl\u001b[49m\u001b[43m(\u001b[49m\u001b[38;5;241;43m*\u001b[39;49m\u001b[43margs\u001b[49m\u001b[43m,\u001b[49m\u001b[43m \u001b[49m\u001b[38;5;241;43m*\u001b[39;49m\u001b[38;5;241;43m*\u001b[39;49m\u001b[43mkwargs\u001b[49m\u001b[43m)\u001b[49m\n",
      "File \u001b[1;32mD:\\Users\\divad\\miniconda3\\envs\\py38\\lib\\site-packages\\torch\\nn\\modules\\module.py:1527\u001b[0m, in \u001b[0;36mModule._call_impl\u001b[1;34m(self, *args, **kwargs)\u001b[0m\n\u001b[0;32m   1522\u001b[0m \u001b[38;5;66;03m# If we don't have any hooks, we want to skip the rest of the logic in\u001b[39;00m\n\u001b[0;32m   1523\u001b[0m \u001b[38;5;66;03m# this function, and just call forward.\u001b[39;00m\n\u001b[0;32m   1524\u001b[0m \u001b[38;5;28;01mif\u001b[39;00m \u001b[38;5;129;01mnot\u001b[39;00m (\u001b[38;5;28mself\u001b[39m\u001b[38;5;241m.\u001b[39m_backward_hooks \u001b[38;5;129;01mor\u001b[39;00m \u001b[38;5;28mself\u001b[39m\u001b[38;5;241m.\u001b[39m_backward_pre_hooks \u001b[38;5;129;01mor\u001b[39;00m \u001b[38;5;28mself\u001b[39m\u001b[38;5;241m.\u001b[39m_forward_hooks \u001b[38;5;129;01mor\u001b[39;00m \u001b[38;5;28mself\u001b[39m\u001b[38;5;241m.\u001b[39m_forward_pre_hooks\n\u001b[0;32m   1525\u001b[0m         \u001b[38;5;129;01mor\u001b[39;00m _global_backward_pre_hooks \u001b[38;5;129;01mor\u001b[39;00m _global_backward_hooks\n\u001b[0;32m   1526\u001b[0m         \u001b[38;5;129;01mor\u001b[39;00m _global_forward_hooks \u001b[38;5;129;01mor\u001b[39;00m _global_forward_pre_hooks):\n\u001b[1;32m-> 1527\u001b[0m     \u001b[38;5;28;01mreturn\u001b[39;00m \u001b[43mforward_call\u001b[49m\u001b[43m(\u001b[49m\u001b[38;5;241;43m*\u001b[39;49m\u001b[43margs\u001b[49m\u001b[43m,\u001b[49m\u001b[43m \u001b[49m\u001b[38;5;241;43m*\u001b[39;49m\u001b[38;5;241;43m*\u001b[39;49m\u001b[43mkwargs\u001b[49m\u001b[43m)\u001b[49m\n\u001b[0;32m   1529\u001b[0m \u001b[38;5;28;01mtry\u001b[39;00m:\n\u001b[0;32m   1530\u001b[0m     result \u001b[38;5;241m=\u001b[39m \u001b[38;5;28;01mNone\u001b[39;00m\n",
      "File \u001b[1;32mD:\\Users\\divad\\Desktop\\neurosism\\neurosism\\models\\UNet.py:49\u001b[0m, in \u001b[0;36mUNet.forward\u001b[1;34m(self, x)\u001b[0m\n\u001b[0;32m     47\u001b[0m \u001b[38;5;28;01mdef\u001b[39;00m \u001b[38;5;21mforward\u001b[39m(\u001b[38;5;28mself\u001b[39m, x):\n\u001b[0;32m     48\u001b[0m     x \u001b[38;5;241m=\u001b[39m \u001b[38;5;28mself\u001b[39m\u001b[38;5;241m.\u001b[39mfirstOp(x)\n\u001b[1;32m---> 49\u001b[0m     x1 \u001b[38;5;241m=\u001b[39m \u001b[38;5;28;43mself\u001b[39;49m\u001b[38;5;241;43m.\u001b[39;49m\u001b[43mdownOp1\u001b[49m\u001b[43m(\u001b[49m\u001b[43mx\u001b[49m\u001b[43m)\u001b[49m\n\u001b[0;32m     50\u001b[0m     x2 \u001b[38;5;241m=\u001b[39m \u001b[38;5;28mself\u001b[39m\u001b[38;5;241m.\u001b[39mdownOp2(x1)\n\u001b[0;32m     51\u001b[0m     x3 \u001b[38;5;241m=\u001b[39m \u001b[38;5;28mself\u001b[39m\u001b[38;5;241m.\u001b[39mdownOp3(x2)\n",
      "File \u001b[1;32mD:\\Users\\divad\\miniconda3\\envs\\py38\\lib\\site-packages\\torch\\nn\\modules\\module.py:1518\u001b[0m, in \u001b[0;36mModule._wrapped_call_impl\u001b[1;34m(self, *args, **kwargs)\u001b[0m\n\u001b[0;32m   1516\u001b[0m     \u001b[38;5;28;01mreturn\u001b[39;00m \u001b[38;5;28mself\u001b[39m\u001b[38;5;241m.\u001b[39m_compiled_call_impl(\u001b[38;5;241m*\u001b[39margs, \u001b[38;5;241m*\u001b[39m\u001b[38;5;241m*\u001b[39mkwargs)  \u001b[38;5;66;03m# type: ignore[misc]\u001b[39;00m\n\u001b[0;32m   1517\u001b[0m \u001b[38;5;28;01melse\u001b[39;00m:\n\u001b[1;32m-> 1518\u001b[0m     \u001b[38;5;28;01mreturn\u001b[39;00m \u001b[38;5;28;43mself\u001b[39;49m\u001b[38;5;241;43m.\u001b[39;49m\u001b[43m_call_impl\u001b[49m\u001b[43m(\u001b[49m\u001b[38;5;241;43m*\u001b[39;49m\u001b[43margs\u001b[49m\u001b[43m,\u001b[49m\u001b[43m \u001b[49m\u001b[38;5;241;43m*\u001b[39;49m\u001b[38;5;241;43m*\u001b[39;49m\u001b[43mkwargs\u001b[49m\u001b[43m)\u001b[49m\n",
      "File \u001b[1;32mD:\\Users\\divad\\miniconda3\\envs\\py38\\lib\\site-packages\\torch\\nn\\modules\\module.py:1527\u001b[0m, in \u001b[0;36mModule._call_impl\u001b[1;34m(self, *args, **kwargs)\u001b[0m\n\u001b[0;32m   1522\u001b[0m \u001b[38;5;66;03m# If we don't have any hooks, we want to skip the rest of the logic in\u001b[39;00m\n\u001b[0;32m   1523\u001b[0m \u001b[38;5;66;03m# this function, and just call forward.\u001b[39;00m\n\u001b[0;32m   1524\u001b[0m \u001b[38;5;28;01mif\u001b[39;00m \u001b[38;5;129;01mnot\u001b[39;00m (\u001b[38;5;28mself\u001b[39m\u001b[38;5;241m.\u001b[39m_backward_hooks \u001b[38;5;129;01mor\u001b[39;00m \u001b[38;5;28mself\u001b[39m\u001b[38;5;241m.\u001b[39m_backward_pre_hooks \u001b[38;5;129;01mor\u001b[39;00m \u001b[38;5;28mself\u001b[39m\u001b[38;5;241m.\u001b[39m_forward_hooks \u001b[38;5;129;01mor\u001b[39;00m \u001b[38;5;28mself\u001b[39m\u001b[38;5;241m.\u001b[39m_forward_pre_hooks\n\u001b[0;32m   1525\u001b[0m         \u001b[38;5;129;01mor\u001b[39;00m _global_backward_pre_hooks \u001b[38;5;129;01mor\u001b[39;00m _global_backward_hooks\n\u001b[0;32m   1526\u001b[0m         \u001b[38;5;129;01mor\u001b[39;00m _global_forward_hooks \u001b[38;5;129;01mor\u001b[39;00m _global_forward_pre_hooks):\n\u001b[1;32m-> 1527\u001b[0m     \u001b[38;5;28;01mreturn\u001b[39;00m \u001b[43mforward_call\u001b[49m\u001b[43m(\u001b[49m\u001b[38;5;241;43m*\u001b[39;49m\u001b[43margs\u001b[49m\u001b[43m,\u001b[49m\u001b[43m \u001b[49m\u001b[38;5;241;43m*\u001b[39;49m\u001b[38;5;241;43m*\u001b[39;49m\u001b[43mkwargs\u001b[49m\u001b[43m)\u001b[49m\n\u001b[0;32m   1529\u001b[0m \u001b[38;5;28;01mtry\u001b[39;00m:\n\u001b[0;32m   1530\u001b[0m     result \u001b[38;5;241m=\u001b[39m \u001b[38;5;28;01mNone\u001b[39;00m\n",
      "File \u001b[1;32mD:\\Users\\divad\\Desktop\\neurosism\\neurosism\\models\\UNet.py:78\u001b[0m, in \u001b[0;36mUNetDown.forward\u001b[1;34m(self, x)\u001b[0m\n\u001b[0;32m     77\u001b[0m \u001b[38;5;28;01mdef\u001b[39;00m \u001b[38;5;21mforward\u001b[39m(\u001b[38;5;28mself\u001b[39m, x: Tensor) \u001b[38;5;241m-\u001b[39m\u001b[38;5;241m>\u001b[39m Tensor:\n\u001b[1;32m---> 78\u001b[0m     \u001b[38;5;28;01mreturn\u001b[39;00m \u001b[38;5;28;43mself\u001b[39;49m\u001b[38;5;241;43m.\u001b[39;49m\u001b[43mop\u001b[49m\u001b[43m(\u001b[49m\u001b[43mx\u001b[49m\u001b[43m)\u001b[49m\n",
      "File \u001b[1;32mD:\\Users\\divad\\miniconda3\\envs\\py38\\lib\\site-packages\\torch\\nn\\modules\\module.py:1518\u001b[0m, in \u001b[0;36mModule._wrapped_call_impl\u001b[1;34m(self, *args, **kwargs)\u001b[0m\n\u001b[0;32m   1516\u001b[0m     \u001b[38;5;28;01mreturn\u001b[39;00m \u001b[38;5;28mself\u001b[39m\u001b[38;5;241m.\u001b[39m_compiled_call_impl(\u001b[38;5;241m*\u001b[39margs, \u001b[38;5;241m*\u001b[39m\u001b[38;5;241m*\u001b[39mkwargs)  \u001b[38;5;66;03m# type: ignore[misc]\u001b[39;00m\n\u001b[0;32m   1517\u001b[0m \u001b[38;5;28;01melse\u001b[39;00m:\n\u001b[1;32m-> 1518\u001b[0m     \u001b[38;5;28;01mreturn\u001b[39;00m \u001b[38;5;28;43mself\u001b[39;49m\u001b[38;5;241;43m.\u001b[39;49m\u001b[43m_call_impl\u001b[49m\u001b[43m(\u001b[49m\u001b[38;5;241;43m*\u001b[39;49m\u001b[43margs\u001b[49m\u001b[43m,\u001b[49m\u001b[43m \u001b[49m\u001b[38;5;241;43m*\u001b[39;49m\u001b[38;5;241;43m*\u001b[39;49m\u001b[43mkwargs\u001b[49m\u001b[43m)\u001b[49m\n",
      "File \u001b[1;32mD:\\Users\\divad\\miniconda3\\envs\\py38\\lib\\site-packages\\torch\\nn\\modules\\module.py:1527\u001b[0m, in \u001b[0;36mModule._call_impl\u001b[1;34m(self, *args, **kwargs)\u001b[0m\n\u001b[0;32m   1522\u001b[0m \u001b[38;5;66;03m# If we don't have any hooks, we want to skip the rest of the logic in\u001b[39;00m\n\u001b[0;32m   1523\u001b[0m \u001b[38;5;66;03m# this function, and just call forward.\u001b[39;00m\n\u001b[0;32m   1524\u001b[0m \u001b[38;5;28;01mif\u001b[39;00m \u001b[38;5;129;01mnot\u001b[39;00m (\u001b[38;5;28mself\u001b[39m\u001b[38;5;241m.\u001b[39m_backward_hooks \u001b[38;5;129;01mor\u001b[39;00m \u001b[38;5;28mself\u001b[39m\u001b[38;5;241m.\u001b[39m_backward_pre_hooks \u001b[38;5;129;01mor\u001b[39;00m \u001b[38;5;28mself\u001b[39m\u001b[38;5;241m.\u001b[39m_forward_hooks \u001b[38;5;129;01mor\u001b[39;00m \u001b[38;5;28mself\u001b[39m\u001b[38;5;241m.\u001b[39m_forward_pre_hooks\n\u001b[0;32m   1525\u001b[0m         \u001b[38;5;129;01mor\u001b[39;00m _global_backward_pre_hooks \u001b[38;5;129;01mor\u001b[39;00m _global_backward_hooks\n\u001b[0;32m   1526\u001b[0m         \u001b[38;5;129;01mor\u001b[39;00m _global_forward_hooks \u001b[38;5;129;01mor\u001b[39;00m _global_forward_pre_hooks):\n\u001b[1;32m-> 1527\u001b[0m     \u001b[38;5;28;01mreturn\u001b[39;00m \u001b[43mforward_call\u001b[49m\u001b[43m(\u001b[49m\u001b[38;5;241;43m*\u001b[39;49m\u001b[43margs\u001b[49m\u001b[43m,\u001b[49m\u001b[43m \u001b[49m\u001b[38;5;241;43m*\u001b[39;49m\u001b[38;5;241;43m*\u001b[39;49m\u001b[43mkwargs\u001b[49m\u001b[43m)\u001b[49m\n\u001b[0;32m   1529\u001b[0m \u001b[38;5;28;01mtry\u001b[39;00m:\n\u001b[0;32m   1530\u001b[0m     result \u001b[38;5;241m=\u001b[39m \u001b[38;5;28;01mNone\u001b[39;00m\n",
      "File \u001b[1;32mD:\\Users\\divad\\miniconda3\\envs\\py38\\lib\\site-packages\\torch\\nn\\modules\\container.py:215\u001b[0m, in \u001b[0;36mSequential.forward\u001b[1;34m(self, input)\u001b[0m\n\u001b[0;32m    213\u001b[0m \u001b[38;5;28;01mdef\u001b[39;00m \u001b[38;5;21mforward\u001b[39m(\u001b[38;5;28mself\u001b[39m, \u001b[38;5;28minput\u001b[39m):\n\u001b[0;32m    214\u001b[0m     \u001b[38;5;28;01mfor\u001b[39;00m module \u001b[38;5;129;01min\u001b[39;00m \u001b[38;5;28mself\u001b[39m:\n\u001b[1;32m--> 215\u001b[0m         \u001b[38;5;28minput\u001b[39m \u001b[38;5;241m=\u001b[39m \u001b[43mmodule\u001b[49m\u001b[43m(\u001b[49m\u001b[38;5;28;43minput\u001b[39;49m\u001b[43m)\u001b[49m\n\u001b[0;32m    216\u001b[0m     \u001b[38;5;28;01mreturn\u001b[39;00m \u001b[38;5;28minput\u001b[39m\n",
      "File \u001b[1;32mD:\\Users\\divad\\miniconda3\\envs\\py38\\lib\\site-packages\\torch\\nn\\modules\\module.py:1518\u001b[0m, in \u001b[0;36mModule._wrapped_call_impl\u001b[1;34m(self, *args, **kwargs)\u001b[0m\n\u001b[0;32m   1516\u001b[0m     \u001b[38;5;28;01mreturn\u001b[39;00m \u001b[38;5;28mself\u001b[39m\u001b[38;5;241m.\u001b[39m_compiled_call_impl(\u001b[38;5;241m*\u001b[39margs, \u001b[38;5;241m*\u001b[39m\u001b[38;5;241m*\u001b[39mkwargs)  \u001b[38;5;66;03m# type: ignore[misc]\u001b[39;00m\n\u001b[0;32m   1517\u001b[0m \u001b[38;5;28;01melse\u001b[39;00m:\n\u001b[1;32m-> 1518\u001b[0m     \u001b[38;5;28;01mreturn\u001b[39;00m \u001b[38;5;28;43mself\u001b[39;49m\u001b[38;5;241;43m.\u001b[39;49m\u001b[43m_call_impl\u001b[49m\u001b[43m(\u001b[49m\u001b[38;5;241;43m*\u001b[39;49m\u001b[43margs\u001b[49m\u001b[43m,\u001b[49m\u001b[43m \u001b[49m\u001b[38;5;241;43m*\u001b[39;49m\u001b[38;5;241;43m*\u001b[39;49m\u001b[43mkwargs\u001b[49m\u001b[43m)\u001b[49m\n",
      "File \u001b[1;32mD:\\Users\\divad\\miniconda3\\envs\\py38\\lib\\site-packages\\torch\\nn\\modules\\module.py:1527\u001b[0m, in \u001b[0;36mModule._call_impl\u001b[1;34m(self, *args, **kwargs)\u001b[0m\n\u001b[0;32m   1522\u001b[0m \u001b[38;5;66;03m# If we don't have any hooks, we want to skip the rest of the logic in\u001b[39;00m\n\u001b[0;32m   1523\u001b[0m \u001b[38;5;66;03m# this function, and just call forward.\u001b[39;00m\n\u001b[0;32m   1524\u001b[0m \u001b[38;5;28;01mif\u001b[39;00m \u001b[38;5;129;01mnot\u001b[39;00m (\u001b[38;5;28mself\u001b[39m\u001b[38;5;241m.\u001b[39m_backward_hooks \u001b[38;5;129;01mor\u001b[39;00m \u001b[38;5;28mself\u001b[39m\u001b[38;5;241m.\u001b[39m_backward_pre_hooks \u001b[38;5;129;01mor\u001b[39;00m \u001b[38;5;28mself\u001b[39m\u001b[38;5;241m.\u001b[39m_forward_hooks \u001b[38;5;129;01mor\u001b[39;00m \u001b[38;5;28mself\u001b[39m\u001b[38;5;241m.\u001b[39m_forward_pre_hooks\n\u001b[0;32m   1525\u001b[0m         \u001b[38;5;129;01mor\u001b[39;00m _global_backward_pre_hooks \u001b[38;5;129;01mor\u001b[39;00m _global_backward_hooks\n\u001b[0;32m   1526\u001b[0m         \u001b[38;5;129;01mor\u001b[39;00m _global_forward_hooks \u001b[38;5;129;01mor\u001b[39;00m _global_forward_pre_hooks):\n\u001b[1;32m-> 1527\u001b[0m     \u001b[38;5;28;01mreturn\u001b[39;00m \u001b[43mforward_call\u001b[49m\u001b[43m(\u001b[49m\u001b[38;5;241;43m*\u001b[39;49m\u001b[43margs\u001b[49m\u001b[43m,\u001b[49m\u001b[43m \u001b[49m\u001b[38;5;241;43m*\u001b[39;49m\u001b[38;5;241;43m*\u001b[39;49m\u001b[43mkwargs\u001b[49m\u001b[43m)\u001b[49m\n\u001b[0;32m   1529\u001b[0m \u001b[38;5;28;01mtry\u001b[39;00m:\n\u001b[0;32m   1530\u001b[0m     result \u001b[38;5;241m=\u001b[39m \u001b[38;5;28;01mNone\u001b[39;00m\n",
      "File \u001b[1;32mD:\\Users\\divad\\miniconda3\\envs\\py38\\lib\\site-packages\\torch\\nn\\modules\\conv.py:610\u001b[0m, in \u001b[0;36mConv3d.forward\u001b[1;34m(self, input)\u001b[0m\n\u001b[0;32m    609\u001b[0m \u001b[38;5;28;01mdef\u001b[39;00m \u001b[38;5;21mforward\u001b[39m(\u001b[38;5;28mself\u001b[39m, \u001b[38;5;28minput\u001b[39m: Tensor) \u001b[38;5;241m-\u001b[39m\u001b[38;5;241m>\u001b[39m Tensor:\n\u001b[1;32m--> 610\u001b[0m     \u001b[38;5;28;01mreturn\u001b[39;00m \u001b[38;5;28;43mself\u001b[39;49m\u001b[38;5;241;43m.\u001b[39;49m\u001b[43m_conv_forward\u001b[49m\u001b[43m(\u001b[49m\u001b[38;5;28;43minput\u001b[39;49m\u001b[43m,\u001b[49m\u001b[43m \u001b[49m\u001b[38;5;28;43mself\u001b[39;49m\u001b[38;5;241;43m.\u001b[39;49m\u001b[43mweight\u001b[49m\u001b[43m,\u001b[49m\u001b[43m \u001b[49m\u001b[38;5;28;43mself\u001b[39;49m\u001b[38;5;241;43m.\u001b[39;49m\u001b[43mbias\u001b[49m\u001b[43m)\u001b[49m\n",
      "File \u001b[1;32mD:\\Users\\divad\\miniconda3\\envs\\py38\\lib\\site-packages\\torch\\nn\\modules\\conv.py:605\u001b[0m, in \u001b[0;36mConv3d._conv_forward\u001b[1;34m(self, input, weight, bias)\u001b[0m\n\u001b[0;32m    593\u001b[0m \u001b[38;5;28;01mif\u001b[39;00m \u001b[38;5;28mself\u001b[39m\u001b[38;5;241m.\u001b[39mpadding_mode \u001b[38;5;241m!=\u001b[39m \u001b[38;5;124m\"\u001b[39m\u001b[38;5;124mzeros\u001b[39m\u001b[38;5;124m\"\u001b[39m:\n\u001b[0;32m    594\u001b[0m     \u001b[38;5;28;01mreturn\u001b[39;00m F\u001b[38;5;241m.\u001b[39mconv3d(\n\u001b[0;32m    595\u001b[0m         F\u001b[38;5;241m.\u001b[39mpad(\n\u001b[0;32m    596\u001b[0m             \u001b[38;5;28minput\u001b[39m, \u001b[38;5;28mself\u001b[39m\u001b[38;5;241m.\u001b[39m_reversed_padding_repeated_twice, mode\u001b[38;5;241m=\u001b[39m\u001b[38;5;28mself\u001b[39m\u001b[38;5;241m.\u001b[39mpadding_mode\n\u001b[1;32m   (...)\u001b[0m\n\u001b[0;32m    603\u001b[0m         \u001b[38;5;28mself\u001b[39m\u001b[38;5;241m.\u001b[39mgroups,\n\u001b[0;32m    604\u001b[0m     )\n\u001b[1;32m--> 605\u001b[0m \u001b[38;5;28;01mreturn\u001b[39;00m \u001b[43mF\u001b[49m\u001b[38;5;241;43m.\u001b[39;49m\u001b[43mconv3d\u001b[49m\u001b[43m(\u001b[49m\n\u001b[0;32m    606\u001b[0m \u001b[43m    \u001b[49m\u001b[38;5;28;43minput\u001b[39;49m\u001b[43m,\u001b[49m\u001b[43m \u001b[49m\u001b[43mweight\u001b[49m\u001b[43m,\u001b[49m\u001b[43m \u001b[49m\u001b[43mbias\u001b[49m\u001b[43m,\u001b[49m\u001b[43m \u001b[49m\u001b[38;5;28;43mself\u001b[39;49m\u001b[38;5;241;43m.\u001b[39;49m\u001b[43mstride\u001b[49m\u001b[43m,\u001b[49m\u001b[43m \u001b[49m\u001b[38;5;28;43mself\u001b[39;49m\u001b[38;5;241;43m.\u001b[39;49m\u001b[43mpadding\u001b[49m\u001b[43m,\u001b[49m\u001b[43m \u001b[49m\u001b[38;5;28;43mself\u001b[39;49m\u001b[38;5;241;43m.\u001b[39;49m\u001b[43mdilation\u001b[49m\u001b[43m,\u001b[49m\u001b[43m \u001b[49m\u001b[38;5;28;43mself\u001b[39;49m\u001b[38;5;241;43m.\u001b[39;49m\u001b[43mgroups\u001b[49m\n\u001b[0;32m    607\u001b[0m \u001b[43m\u001b[49m\u001b[43m)\u001b[49m\n",
      "\u001b[1;31mRuntimeError\u001b[0m: Given groups=1, weight of size [64, 1, 3, 3, 3], expected input[1, 64, 5, 177, 177] to have 1 channels, but got 64 channels instead"
     ]
    }
   ],
   "source": [
    "from models.UNet import *\n",
    "\n",
    "\n",
    "model = UNet()\n",
    "model(x)"
   ]
  },
  {
   "cell_type": "code",
   "execution_count": null,
   "id": "f16559dc-b2ac-4ed4-8343-7cf0ad64e02f",
   "metadata": {},
   "outputs": [],
   "source": []
  },
  {
   "cell_type": "code",
   "execution_count": null,
   "id": "02b67c0e-cd9e-4b0f-aabe-0096920c3584",
   "metadata": {},
   "outputs": [],
   "source": []
  },
  {
   "cell_type": "code",
   "execution_count": null,
   "id": "d980d7c3-125f-40c9-a7e9-a6d2126b55f6",
   "metadata": {},
   "outputs": [],
   "source": []
  },
  {
   "cell_type": "code",
   "execution_count": null,
   "id": "87a8d8ae-6ddc-4b26-98b4-f923b20946c0",
   "metadata": {},
   "outputs": [],
   "source": []
  },
  {
   "cell_type": "code",
   "execution_count": null,
   "id": "909f2734-bfae-4459-91ad-f6ccf848b4e2",
   "metadata": {},
   "outputs": [],
   "source": []
  },
  {
   "cell_type": "code",
   "execution_count": null,
   "id": "28b3de4e-d24f-4ab9-85df-306f895a9d94",
   "metadata": {},
   "outputs": [],
   "source": []
  },
  {
   "cell_type": "code",
   "execution_count": null,
   "id": "7701ada4-da3c-4382-bf67-550e426818d0",
   "metadata": {},
   "outputs": [],
   "source": []
  },
  {
   "cell_type": "code",
   "execution_count": null,
   "id": "2125e706-e9fe-404d-89db-a25750a33aed",
   "metadata": {},
   "outputs": [],
   "source": []
  },
  {
   "cell_type": "code",
   "execution_count": null,
   "id": "cf86a96b-7b8b-477d-a1fe-4a2d2a74f1a5",
   "metadata": {},
   "outputs": [],
   "source": [
    "x1 = x.clone()\n",
    "\n",
    "kern = (1, 1, 89)\n",
    "kern2 = (1, 2, 2)\n",
    "kern3 = (1, 3, 3)\n",
    "\n",
    "iCh = 1\n",
    "oCh = 64\n",
    "\n",
    "x1 = nn.Conv3d(iCh, oCh, kern)(x1)\n",
    "x1 = nn.ReLU(inplace=True)(x1)\n",
    "x1 = nn.Conv3d(oCh, oCh, kern)(x1)\n",
    "x1 = nn.ReLU(inplace=True)(x1)\n",
    "print(x1.shape)\n",
    "\n",
    "iCh = oCh\n",
    "oCh = iCh * 2\n",
    "\n",
    "x2 = nn.MaxPool3d(kern2, stride=kern2)(x1)\n",
    "x2 = nn.Conv3d(iCh, oCh, 3)(x2)\n",
    "x2 = nn.ReLU(inplace=True)(x2)\n",
    "x2 = nn.Conv3d(oCh, oCh, 3)(x2)\n",
    "x2 = nn.ReLU(inplace=True)(x2)\n",
    "print(x2.shape)\n",
    "\n",
    "iCh = oCh\n",
    "oCh = iCh * 2\n",
    "\n",
    "x3 = nn.MaxPool3d(kern2, stride=kern2)(x2)\n",
    "x3 = nn.Conv3d(iCh, oCh, kern3)(x3)\n",
    "x3 = nn.ReLU(inplace=True)(x3)\n",
    "x3 = nn.Conv3d(oCh, oCh, kern3)(x3)\n",
    "x3 = nn.ReLU(inplace=True)(x3)\n",
    "print(x3.shape)\n",
    "\n",
    "iCh = oCh\n",
    "oCh = iCh * 2\n",
    "\n",
    "x4 = nn.MaxPool3d(kern2, stride=kern2)(x3)\n",
    "x4 = nn.Conv3d(iCh, oCh, kern3)(x4)\n",
    "x4 = nn.ReLU(inplace=True)(x4)\n",
    "x4 = nn.Conv3d(oCh, oCh, kern3)(x4)\n",
    "x4 = nn.ReLU(inplace=True)(x4)\n",
    "print(x4.shape)\n",
    "\n",
    "iCh = oCh\n",
    "oCh = iCh * 2\n",
    "\n",
    "# x5 = nn.MaxPool3d(kern2, stride=kern2)(x4)\n",
    "# x5 = nn.Conv3d(iCh, oCh, kern3)(x5)\n",
    "# x5 = nn.ReLU(inplace=True)(x5)\n",
    "# x5 = nn.Conv3d(oCh, oCh, kern3)(x5)\n",
    "# x5 = nn.ReLU(inplace=True)(x5)\n",
    "# print(x5.shape)\n",
    "\n",
    "y = nn.MaxPool3d(kern2, stride=kern2)(x4)\n",
    "y = nn.Conv3d(iCh, oCh, kern3)(y)\n",
    "y = nn.ReLU(inplace=True)(y)\n",
    "y = nn.Conv3d(oCh, oCh, kern3)(y)\n",
    "y = nn.ReLU(inplace=True)(y)\n",
    "print(y.shape)\n",
    "\n",
    "iCh = oCh\n",
    "oCh = iCh // 2\n",
    "\n",
    "y = nn.Upsample(scale_factor=2)(y)\n",
    "y = nn.Conv3d(iCh, oCh, 2)(y)\n",
    "dimension = y.shape[-1]\n",
    "x4 = tf.CenterCrop((dimension, dimension))(x4)\n",
    "y = torch.cat((y, x4), 1)\n",
    "y = nn.Conv3d(iCh, oCh, kern3)(y)\n",
    "y = nn.ReLU(inplace=True)(y)\n",
    "y = nn.Conv3d(oCh, oCh, kern3)(y)\n",
    "y = nn.ReLU(inplace=True)(y)\n",
    "\n",
    "iCh = oCh\n",
    "oCh = iCh // 2\n",
    "\n",
    "y = nn.Upsample(scale_factor=2)(y)\n",
    "y = nn.Conv3d(iCh, oCh, 2)(y)\n",
    "dimension = y.shape[-1]\n",
    "x3 = tf.CenterCrop((dimension, dimension))(x3)\n",
    "y = torch.cat((y, x3), 1)\n",
    "y = nn.Conv3d(iCh, oCh, kern3)(y)\n",
    "y = nn.ReLU(inplace=True)(y)\n",
    "y = nn.Conv3d(oCh, oCh, kern3)(y)\n",
    "y = nn.ReLU(inplace=True)(y)\n",
    "\n",
    "iCh = oCh\n",
    "oCh = iCh // 2\n",
    "\n",
    "y = nn.Upsample(scale_factor=2)(y)\n",
    "y = nn.Conv3d(iCh, oCh, 2)(y)\n",
    "dimension = y.shape[-1]\n",
    "x2 = tf.CenterCrop((dimension, dimension))(x2)\n",
    "y = torch.cat((y, x2), 1)\n",
    "y = nn.Conv3d(iCh, oCh, kern3)(y)\n",
    "y = nn.ReLU(inplace=True)(y)\n",
    "y = nn.Conv3d(oCh, oCh, kern3)(y)\n",
    "y = nn.ReLU(inplace=True)(y)\n",
    "\n",
    "y = nn.Conv3d(oCh, 1, (1, 42, 14))(y)\n",
    "y = nn.ReLU(inplace=True)(y)\n",
    "\n",
    "# iCh = oCh\n",
    "# oCh = iCh * 2\n",
    "\n",
    "# x6 = nn.MaxPool3d(kern2, stride=kern2)(x5)\n",
    "# x6 = nn.Conv3d(iCh, oCh, kern3)(x6)\n",
    "# x6 = nn.ReLU(inplace=True)(x6)\n",
    "# x6 = nn.Conv3d(oCh, oCh, kern3)(x6)\n",
    "# x6 = nn.ReLU(inplace=True)(x6)\n",
    "# print(x6.shape)\n",
    "\n",
    "# x6 = x5\n",
    "\n",
    "# iCh = oCh\n",
    "# oCh = iCh // 2\n",
    "\n",
    "# x7 = nn.Upsample(scale_factor=2)(x6)\n",
    "# x7 = nn.Conv3d(iCh, oCh, 2)(x7)\n",
    "# x5a = tf.CenterCrop((5, 5))(x5)\n",
    "# x7 = torch.cat((x7, x5a), 1)\n",
    "# x7.shape\n",
    "y.shape"
   ]
  },
  {
   "cell_type": "code",
   "execution_count": 84,
   "id": "5566beb7-47a2-49e3-8917-97de60f0334c",
   "metadata": {},
   "outputs": [
    {
     "data": {
      "text/plain": [
       "tensor([[[[[-0.0371, -0.0234, -0.0244,  ..., -0.0070, -0.0040, -0.0108],\n",
       "           [-0.0073,  0.0068,  0.0020,  ..., -0.0149, -0.0147, -0.0152],\n",
       "           [-0.0127, -0.0166, -0.0164,  ..., -0.0129, -0.0133, -0.0129],\n",
       "           ...,\n",
       "           [-0.0204, -0.0177, -0.0161,  ..., -0.0101, -0.0084, -0.0099],\n",
       "           [-0.0118, -0.0138, -0.0113,  ..., -0.0085, -0.0088, -0.0067],\n",
       "           [-0.0146, -0.0141, -0.0136,  ..., -0.0067, -0.0081, -0.0060]]]]],\n",
       "       grad_fn=<ConvolutionBackward0>)"
      ]
     },
     "execution_count": 84,
     "metadata": {},
     "output_type": "execute_result"
    }
   ],
   "source": [
    "z = y.clone()\n",
    "z = nn.Conv3d(oCh, 1, (1, 42, 14))(z)\n",
    "z"
   ]
  },
  {
   "cell_type": "code",
   "execution_count": 86,
   "id": "089780f9-144b-4bfd-9695-0f3f6f435896",
   "metadata": {},
   "outputs": [
    {
     "data": {
      "text/plain": [
       "128"
      ]
     },
     "execution_count": 86,
     "metadata": {},
     "output_type": "execute_result"
    }
   ],
   "source": [
    "oCh"
   ]
  },
  {
   "cell_type": "code",
   "execution_count": null,
   "id": "198f14a6-398e-4175-9958-16d06009a9b0",
   "metadata": {},
   "outputs": [],
   "source": []
  },
  {
   "cell_type": "code",
   "execution_count": null,
   "id": "a61cb1fe-ef59-468d-90a4-05b39168c74f",
   "metadata": {},
   "outputs": [],
   "source": []
  },
  {
   "cell_type": "code",
   "execution_count": 38,
   "id": "7af11e88-3760-487b-994e-602af8ee6f07",
   "metadata": {},
   "outputs": [
    {
     "name": "stdout",
     "output_type": "stream",
     "text": [
      "torch.Size([1, 16, 4, 350, 526])\n",
      "torch.Size([1, 32, 4, 171, 259])\n",
      "torch.Size([1, 64, 4, 81, 82])\n",
      "torch.Size([1, 128, 2, 40, 78])\n",
      "torch.Size([1, 256, 2, 16, 36])\n",
      "torch.Size([1, 512, 2, 4, 14])\n"
     ]
    },
    {
     "ename": "RuntimeError",
     "evalue": "Calculated padded input size per channel: (1 x 2 x 7). Kernel size: (2 x 2 x 2). Kernel size can't be greater than actual input size",
     "output_type": "error",
     "traceback": [
      "\u001b[1;31m---------------------------------------------------------------------------\u001b[0m",
      "\u001b[1;31mRuntimeError\u001b[0m                              Traceback (most recent call last)",
      "Cell \u001b[1;32mIn[38], line 71\u001b[0m\n\u001b[0;32m     68\u001b[0m oCh \u001b[38;5;241m=\u001b[39m iCh \u001b[38;5;241m*\u001b[39m \u001b[38;5;241m2\u001b[39m\n\u001b[0;32m     70\u001b[0m x7 \u001b[38;5;241m=\u001b[39m nn\u001b[38;5;241m.\u001b[39mMaxPool3d(\u001b[38;5;241m2\u001b[39m)(x6)\n\u001b[1;32m---> 71\u001b[0m x7 \u001b[38;5;241m=\u001b[39m \u001b[43mnn\u001b[49m\u001b[38;5;241;43m.\u001b[39;49m\u001b[43mConv3d\u001b[49m\u001b[43m(\u001b[49m\u001b[43miCh\u001b[49m\u001b[43m,\u001b[49m\u001b[43m \u001b[49m\u001b[43moCh\u001b[49m\u001b[43m,\u001b[49m\u001b[43m \u001b[49m\u001b[38;5;241;43m2\u001b[39;49m\u001b[43m)\u001b[49m\u001b[43m(\u001b[49m\u001b[43mx7\u001b[49m\u001b[43m)\u001b[49m\n\u001b[0;32m     72\u001b[0m x7 \u001b[38;5;241m=\u001b[39m nn\u001b[38;5;241m.\u001b[39mReLU(inplace\u001b[38;5;241m=\u001b[39m\u001b[38;5;28;01mTrue\u001b[39;00m)(x7)\n\u001b[0;32m     73\u001b[0m x7 \u001b[38;5;241m=\u001b[39m nn\u001b[38;5;241m.\u001b[39mConv3d(oCh, oCh, (\u001b[38;5;241m1\u001b[39m, \u001b[38;5;241m1\u001b[39m, \u001b[38;5;241m3\u001b[39m))(x7)\n",
      "File \u001b[1;32mD:\\Users\\divad\\miniconda3\\envs\\py38\\lib\\site-packages\\torch\\nn\\modules\\module.py:1518\u001b[0m, in \u001b[0;36mModule._wrapped_call_impl\u001b[1;34m(self, *args, **kwargs)\u001b[0m\n\u001b[0;32m   1516\u001b[0m     \u001b[38;5;28;01mreturn\u001b[39;00m \u001b[38;5;28mself\u001b[39m\u001b[38;5;241m.\u001b[39m_compiled_call_impl(\u001b[38;5;241m*\u001b[39margs, \u001b[38;5;241m*\u001b[39m\u001b[38;5;241m*\u001b[39mkwargs)  \u001b[38;5;66;03m# type: ignore[misc]\u001b[39;00m\n\u001b[0;32m   1517\u001b[0m \u001b[38;5;28;01melse\u001b[39;00m:\n\u001b[1;32m-> 1518\u001b[0m     \u001b[38;5;28;01mreturn\u001b[39;00m \u001b[38;5;28;43mself\u001b[39;49m\u001b[38;5;241;43m.\u001b[39;49m\u001b[43m_call_impl\u001b[49m\u001b[43m(\u001b[49m\u001b[38;5;241;43m*\u001b[39;49m\u001b[43margs\u001b[49m\u001b[43m,\u001b[49m\u001b[43m \u001b[49m\u001b[38;5;241;43m*\u001b[39;49m\u001b[38;5;241;43m*\u001b[39;49m\u001b[43mkwargs\u001b[49m\u001b[43m)\u001b[49m\n",
      "File \u001b[1;32mD:\\Users\\divad\\miniconda3\\envs\\py38\\lib\\site-packages\\torch\\nn\\modules\\module.py:1527\u001b[0m, in \u001b[0;36mModule._call_impl\u001b[1;34m(self, *args, **kwargs)\u001b[0m\n\u001b[0;32m   1522\u001b[0m \u001b[38;5;66;03m# If we don't have any hooks, we want to skip the rest of the logic in\u001b[39;00m\n\u001b[0;32m   1523\u001b[0m \u001b[38;5;66;03m# this function, and just call forward.\u001b[39;00m\n\u001b[0;32m   1524\u001b[0m \u001b[38;5;28;01mif\u001b[39;00m \u001b[38;5;129;01mnot\u001b[39;00m (\u001b[38;5;28mself\u001b[39m\u001b[38;5;241m.\u001b[39m_backward_hooks \u001b[38;5;129;01mor\u001b[39;00m \u001b[38;5;28mself\u001b[39m\u001b[38;5;241m.\u001b[39m_backward_pre_hooks \u001b[38;5;129;01mor\u001b[39;00m \u001b[38;5;28mself\u001b[39m\u001b[38;5;241m.\u001b[39m_forward_hooks \u001b[38;5;129;01mor\u001b[39;00m \u001b[38;5;28mself\u001b[39m\u001b[38;5;241m.\u001b[39m_forward_pre_hooks\n\u001b[0;32m   1525\u001b[0m         \u001b[38;5;129;01mor\u001b[39;00m _global_backward_pre_hooks \u001b[38;5;129;01mor\u001b[39;00m _global_backward_hooks\n\u001b[0;32m   1526\u001b[0m         \u001b[38;5;129;01mor\u001b[39;00m _global_forward_hooks \u001b[38;5;129;01mor\u001b[39;00m _global_forward_pre_hooks):\n\u001b[1;32m-> 1527\u001b[0m     \u001b[38;5;28;01mreturn\u001b[39;00m \u001b[43mforward_call\u001b[49m\u001b[43m(\u001b[49m\u001b[38;5;241;43m*\u001b[39;49m\u001b[43margs\u001b[49m\u001b[43m,\u001b[49m\u001b[43m \u001b[49m\u001b[38;5;241;43m*\u001b[39;49m\u001b[38;5;241;43m*\u001b[39;49m\u001b[43mkwargs\u001b[49m\u001b[43m)\u001b[49m\n\u001b[0;32m   1529\u001b[0m \u001b[38;5;28;01mtry\u001b[39;00m:\n\u001b[0;32m   1530\u001b[0m     result \u001b[38;5;241m=\u001b[39m \u001b[38;5;28;01mNone\u001b[39;00m\n",
      "File \u001b[1;32mD:\\Users\\divad\\miniconda3\\envs\\py38\\lib\\site-packages\\torch\\nn\\modules\\conv.py:610\u001b[0m, in \u001b[0;36mConv3d.forward\u001b[1;34m(self, input)\u001b[0m\n\u001b[0;32m    609\u001b[0m \u001b[38;5;28;01mdef\u001b[39;00m \u001b[38;5;21mforward\u001b[39m(\u001b[38;5;28mself\u001b[39m, \u001b[38;5;28minput\u001b[39m: Tensor) \u001b[38;5;241m-\u001b[39m\u001b[38;5;241m>\u001b[39m Tensor:\n\u001b[1;32m--> 610\u001b[0m     \u001b[38;5;28;01mreturn\u001b[39;00m \u001b[38;5;28;43mself\u001b[39;49m\u001b[38;5;241;43m.\u001b[39;49m\u001b[43m_conv_forward\u001b[49m\u001b[43m(\u001b[49m\u001b[38;5;28;43minput\u001b[39;49m\u001b[43m,\u001b[49m\u001b[43m \u001b[49m\u001b[38;5;28;43mself\u001b[39;49m\u001b[38;5;241;43m.\u001b[39;49m\u001b[43mweight\u001b[49m\u001b[43m,\u001b[49m\u001b[43m \u001b[49m\u001b[38;5;28;43mself\u001b[39;49m\u001b[38;5;241;43m.\u001b[39;49m\u001b[43mbias\u001b[49m\u001b[43m)\u001b[49m\n",
      "File \u001b[1;32mD:\\Users\\divad\\miniconda3\\envs\\py38\\lib\\site-packages\\torch\\nn\\modules\\conv.py:605\u001b[0m, in \u001b[0;36mConv3d._conv_forward\u001b[1;34m(self, input, weight, bias)\u001b[0m\n\u001b[0;32m    593\u001b[0m \u001b[38;5;28;01mif\u001b[39;00m \u001b[38;5;28mself\u001b[39m\u001b[38;5;241m.\u001b[39mpadding_mode \u001b[38;5;241m!=\u001b[39m \u001b[38;5;124m\"\u001b[39m\u001b[38;5;124mzeros\u001b[39m\u001b[38;5;124m\"\u001b[39m:\n\u001b[0;32m    594\u001b[0m     \u001b[38;5;28;01mreturn\u001b[39;00m F\u001b[38;5;241m.\u001b[39mconv3d(\n\u001b[0;32m    595\u001b[0m         F\u001b[38;5;241m.\u001b[39mpad(\n\u001b[0;32m    596\u001b[0m             \u001b[38;5;28minput\u001b[39m, \u001b[38;5;28mself\u001b[39m\u001b[38;5;241m.\u001b[39m_reversed_padding_repeated_twice, mode\u001b[38;5;241m=\u001b[39m\u001b[38;5;28mself\u001b[39m\u001b[38;5;241m.\u001b[39mpadding_mode\n\u001b[1;32m   (...)\u001b[0m\n\u001b[0;32m    603\u001b[0m         \u001b[38;5;28mself\u001b[39m\u001b[38;5;241m.\u001b[39mgroups,\n\u001b[0;32m    604\u001b[0m     )\n\u001b[1;32m--> 605\u001b[0m \u001b[38;5;28;01mreturn\u001b[39;00m \u001b[43mF\u001b[49m\u001b[38;5;241;43m.\u001b[39;49m\u001b[43mconv3d\u001b[49m\u001b[43m(\u001b[49m\n\u001b[0;32m    606\u001b[0m \u001b[43m    \u001b[49m\u001b[38;5;28;43minput\u001b[39;49m\u001b[43m,\u001b[49m\u001b[43m \u001b[49m\u001b[43mweight\u001b[49m\u001b[43m,\u001b[49m\u001b[43m \u001b[49m\u001b[43mbias\u001b[49m\u001b[43m,\u001b[49m\u001b[43m \u001b[49m\u001b[38;5;28;43mself\u001b[39;49m\u001b[38;5;241;43m.\u001b[39;49m\u001b[43mstride\u001b[49m\u001b[43m,\u001b[49m\u001b[43m \u001b[49m\u001b[38;5;28;43mself\u001b[39;49m\u001b[38;5;241;43m.\u001b[39;49m\u001b[43mpadding\u001b[49m\u001b[43m,\u001b[49m\u001b[43m \u001b[49m\u001b[38;5;28;43mself\u001b[39;49m\u001b[38;5;241;43m.\u001b[39;49m\u001b[43mdilation\u001b[49m\u001b[43m,\u001b[49m\u001b[43m \u001b[49m\u001b[38;5;28;43mself\u001b[39;49m\u001b[38;5;241;43m.\u001b[39;49m\u001b[43mgroups\u001b[49m\n\u001b[0;32m    607\u001b[0m \u001b[43m\u001b[49m\u001b[43m)\u001b[49m\n",
      "\u001b[1;31mRuntimeError\u001b[0m: Calculated padded input size per channel: (1 x 2 x 7). Kernel size: (2 x 2 x 2). Kernel size can't be greater than actual input size"
     ]
    }
   ],
   "source": [
    "x1 = x.clone()\n",
    "\n",
    "kern2 = (1, 2, 2)\n",
    "kern3 = (1, 3, 3)\n",
    "\n",
    "iCh = 1\n",
    "oCh = 16\n",
    "\n",
    "x1 = nn.Conv3d(iCh, oCh, kern3)(x1)\n",
    "x1 = nn.ReLU(inplace=True)(x1)\n",
    "x1 = nn.Conv3d(oCh, oCh, kern3)(x1)\n",
    "x1 = nn.ReLU(inplace=True)(x1)\n",
    "print(x1.shape)\n",
    "\n",
    "iCh = oCh\n",
    "oCh = iCh * 2\n",
    "\n",
    "x2 = nn.MaxPool3d(kern2)(x1)\n",
    "x2 = nn.Conv3d(iCh, oCh, kern3)(x2)\n",
    "x2 = nn.ReLU(inplace=True)(x2)\n",
    "x2 = nn.Conv3d(oCh, oCh, kern3)(x2)\n",
    "x2 = nn.ReLU(inplace=True)(x2)\n",
    "print(x2.shape)\n",
    "\n",
    "iCh = oCh\n",
    "oCh = iCh * 2\n",
    "\n",
    "x3 = nn.MaxPool3d((1, 2, 3))(x2)\n",
    "x3 = nn.Conv3d(iCh, oCh, kern3)(x3)\n",
    "x3 = nn.ReLU(inplace=True)(x3)\n",
    "x3 = nn.Conv3d(oCh, oCh, kern3)(x3)\n",
    "x3 = nn.ReLU(inplace=True)(x3)\n",
    "print(x3.shape)\n",
    "\n",
    "######\n",
    "\n",
    "iCh = oCh\n",
    "oCh = iCh * 2\n",
    "\n",
    "x4 = nn.MaxPool3d((1, 2, 1))(x3)\n",
    "x4 = nn.Conv3d(iCh, oCh, (2, 1, 3))(x4)\n",
    "x4 = nn.ReLU(inplace=True)(x4)\n",
    "x4 = nn.Conv3d(oCh, oCh, (2, 1, 3))(x4)\n",
    "x4 = nn.ReLU(inplace=True)(x4)\n",
    "print(x4.shape)\n",
    "\n",
    "iCh = oCh\n",
    "oCh = iCh * 2\n",
    "\n",
    "x5 = nn.MaxPool3d(kern2)(x4)\n",
    "x5 = nn.Conv3d(iCh, oCh, kern3)(x5)\n",
    "x5 = nn.ReLU(inplace=True)(x5)\n",
    "x5 = nn.Conv3d(oCh, oCh, (1, 3, 2))(x5)\n",
    "x5 = nn.ReLU(inplace=True)(x5)\n",
    "print(x5.shape)\n",
    "\n",
    "iCh = oCh\n",
    "oCh = iCh * 2\n",
    "\n",
    "x6 = nn.MaxPool3d(kern2)(x5)\n",
    "x6 = nn.Conv3d(iCh, oCh, kern3)(x6)\n",
    "x6 = nn.ReLU(inplace=True)(x6)\n",
    "x6 = nn.Conv3d(oCh, oCh, kern3)(x6)\n",
    "x6 = nn.ReLU(inplace=True)(x6)\n",
    "print(x6.shape)\n",
    "\n",
    "iCh = oCh\n",
    "oCh = iCh * 2\n",
    "\n",
    "x7 = nn.MaxPool3d(2)(x6)\n",
    "x7 = nn.Conv3d(iCh, oCh, 2)(x7)\n",
    "x7 = nn.ReLU(inplace=True)(x7)\n",
    "x7 = nn.Conv3d(oCh, oCh, (1, 1, 3))(x7)\n",
    "x7 = nn.ReLU(inplace=True)(x7)\n",
    "print(x7.shape)\n",
    "\n",
    "# x5 = nn.Upsample(scale_factor=2)(x4)\n",
    "# xCrop = torch.zeros(1, 256, 2, 10, 22)\n",
    "# for i in range(256):\n",
    "#     xCrop[0][i]\n",
    "\n",
    "# x3a = torchvision.transforms.CenterCrop(())(x3)\n",
    "# print(x5.shape)\n",
    "\n",
    "# x5 = nn.MaxPool3d((1, 3, 3))(x4)\n",
    "# x5 = nn.Conv3d(512, 1024, (1, 1, 3))(x5)\n",
    "# print(x5.shape)\n",
    "\n",
    "# x6 = nn.Upsample(scale_factor=2)(x5)\n",
    "\n",
    "# x5.shape"
   ]
  },
  {
   "cell_type": "code",
   "execution_count": 37,
   "id": "9f7f249c-bcf2-4f4b-9564-f75e4fb1e35f",
   "metadata": {},
   "outputs": [
    {
     "name": "stdout",
     "output_type": "stream",
     "text": [
      "torch.Size([1, 1024, 2, 2, 8])\n"
     ]
    }
   ],
   "source": [
    "x8 = nn.Upsample(scale_factor=2)(x7)\n",
    "\n",
    "print(x8.shape)"
   ]
  },
  {
   "cell_type": "code",
   "execution_count": 20,
   "id": "df448fe6-b286-4c00-8ecc-7fd85021919c",
   "metadata": {},
   "outputs": [
    {
     "data": {
      "text/plain": [
       "torch.Size([1, 256, 6, 10, 12])"
      ]
     },
     "execution_count": 20,
     "metadata": {},
     "output_type": "execute_result"
    }
   ],
   "source": [
    "\n",
    "\n",
    "x3a = torchvision.transforms.CenterCrop((10, 12))(x3)\n",
    "x3a.shape"
   ]
  },
  {
   "cell_type": "code",
   "execution_count": 4,
   "id": "a9599a4c-96d1-4698-a84a-aac8d49a549b",
   "metadata": {},
   "outputs": [
    {
     "name": "stdout",
     "output_type": "stream",
     "text": [
      "torch.Size([1, 32, 140, 234, 351])\n",
      "torch.Size([1, 64, 44, 76, 115])\n",
      "torch.Size([1, 128, 12, 23, 36])\n",
      "torch.Size([1, 512, 1, 4, 9])\n"
     ]
    }
   ],
   "source": [
    "p = 3\n",
    "a1 = nn.MaxPool3d(p)(a)\n",
    "a1 = nn.Conv3d(1, 32, 3)(a1)\n",
    "a1 = nn.ReLU(inplace=True)(a1)\n",
    "print(a1.shape)\n",
    "\n",
    "a2 = nn.MaxPool3d(p)(a1)\n",
    "a2 = nn.Conv3d(32, 64, 3)(a2)\n",
    "a2 = nn.ReLU(inplace=True)(a2)\n",
    "print(a2.shape)\n",
    "\n",
    "a3 = nn.MaxPool3d(p)(a2)\n",
    "a3 = nn.Conv3d(64, 128, 3)(a3)\n",
    "a3 = nn.ReLU(inplace=True)(a3)\n",
    "print(a3.shape)\n",
    "\n",
    "a4 = nn.MaxPool3d(p)(a3)\n",
    "a4 = nn.Conv3d(128, 256, 3)(a4)\n",
    "a4 = nn.ReLU(inplace=True)(a4)\n",
    "a4 = nn.Conv3d(256, 512, 2)(a4)\n",
    "a4 = nn.ReLU(inplace=True)(a4)\n",
    "print(a4.shape)"
   ]
  },
  {
   "cell_type": "code",
   "execution_count": 5,
   "id": "eec7cfc7-e8c8-4424-9836-dadd07e7a8b8",
   "metadata": {},
   "outputs": [
    {
     "data": {
      "text/plain": [
       "torch.Size([1, 512, 3, 12, 27])"
      ]
     },
     "execution_count": 5,
     "metadata": {},
     "output_type": "execute_result"
    }
   ],
   "source": [
    "a5 = nn.Upsample(scale_factor=3)(a4)\n",
    "a5.shape"
   ]
  },
  {
   "cell_type": "code",
   "execution_count": 27,
   "id": "4a880a4e-03df-4bcd-a3e1-7a6fc08fcdea",
   "metadata": {},
   "outputs": [
    {
     "data": {
      "text/plain": [
       "torch.Size([256, 3, 6, 11])"
      ]
     },
     "execution_count": 27,
     "metadata": {},
     "output_type": "execute_result"
    }
   ],
   "source": [
    "a5 = nn.ConvTranspose3d(512, 256, 3)(a4)\n",
    "# a5 = nn.Conv3d(256, 256, 3)(a5)\n",
    "a5.shape"
   ]
  },
  {
   "cell_type": "code",
   "execution_count": 12,
   "id": "6a186e10-4f3d-4344-b9d1-d4fbcde222a4",
   "metadata": {},
   "outputs": [
    {
     "data": {
      "text/plain": [
       "torch.Size([1, 5, 8, 13])"
      ]
     },
     "execution_count": 12,
     "metadata": {},
     "output_type": "execute_result"
    }
   ],
   "source": [
    "p = 3\n",
    "a1 = nn.MaxPool3d(p)(a)\n",
    "# a1 = nn.Conv3d(1, 64, 3)(a1)\n",
    "a1 = nn.MaxPool3d(p)(a1)\n",
    "# a1 = nn.Conv3d(64, 128, 3)(a1)\n",
    "a1 = nn.MaxPool3d(p)(a1)\n",
    "# a1 = nn.Conv3d(128, 256, 3)(a1)\n",
    "a1 = nn.MaxPool3d(p)(a1)\n",
    "# a1 = nn.Conv3d(256, 512, 3)(a1)\n",
    "a1.shape"
   ]
  },
  {
   "cell_type": "code",
   "execution_count": 3,
   "id": "e4438692-1602-4c2e-8712-c4a18c605802",
   "metadata": {},
   "outputs": [
    {
     "data": {
      "text/plain": [
       "torch.Size([64, 51, 86, 130])"
      ]
     },
     "execution_count": 3,
     "metadata": {},
     "output_type": "execute_result"
    }
   ],
   "source": [
    "from models.UNet import *\n",
    "a1 = UNetDown(1, 64, 8, 3)(a)\n",
    "a1.shape"
   ]
  },
  {
   "cell_type": "code",
   "execution_count": 4,
   "id": "198ab01a-7f78-4997-8da7-1b8a59e04a2d",
   "metadata": {},
   "outputs": [
    {
     "data": {
      "text/plain": [
       "torch.Size([128, 10, 19, 30])"
      ]
     },
     "execution_count": 4,
     "metadata": {},
     "output_type": "execute_result"
    }
   ],
   "source": [
    "a2 = UNetDown(64, 128, 4, 3)(a1)\n",
    "a2.shape"
   ]
  },
  {
   "cell_type": "code",
   "execution_count": 5,
   "id": "a3cdd9ea-940b-46ed-91ef-0a402c52bf9c",
   "metadata": {},
   "outputs": [
    {
     "data": {
      "text/plain": [
       "torch.Size([256, 3, 7, 13])"
      ]
     },
     "execution_count": 5,
     "metadata": {},
     "output_type": "execute_result"
    }
   ],
   "source": [
    "a3 = UNetDown(128, 256, 2, 3)(a2)\n",
    "a3.shape"
   ]
  },
  {
   "cell_type": "code",
   "execution_count": 6,
   "id": "0d3d3171-9651-449c-8e6c-74fcfb71f35d",
   "metadata": {},
   "outputs": [
    {
     "data": {
      "text/plain": [
       "torch.Size([512, 1, 5, 11])"
      ]
     },
     "execution_count": 6,
     "metadata": {},
     "output_type": "execute_result"
    }
   ],
   "source": [
    "a4 = UNetDown(256, 512, 1, 3)(a3)\n",
    "a4.shape"
   ]
  },
  {
   "cell_type": "code",
   "execution_count": 7,
   "id": "240493d6-b894-40de-8ed0-7c8729c08929",
   "metadata": {},
   "outputs": [
    {
     "data": {
      "text/plain": [
       "torch.Size([512, 5, 11])"
      ]
     },
     "execution_count": 7,
     "metadata": {},
     "output_type": "execute_result"
    }
   ],
   "source": [
    "a5 = torch.squeeze(a4, 1)\n",
    "a5.shape"
   ]
  },
  {
   "cell_type": "code",
   "execution_count": 8,
   "id": "19055ce4-56ba-478a-a48f-8a91321e3fab",
   "metadata": {},
   "outputs": [
    {
     "data": {
      "text/plain": [
       "torch.Size([256, 2, 6, 12])"
      ]
     },
     "execution_count": 8,
     "metadata": {},
     "output_type": "execute_result"
    }
   ],
   "source": [
    "a4 = UNetUp(256, 512, 256, 3, 2)(a3)\n",
    "a4.shape"
   ]
  },
  {
   "cell_type": "code",
   "execution_count": 9,
   "id": "41458446-1e9f-4e45-94f3-5897798d2e96",
   "metadata": {},
   "outputs": [
    {
     "data": {
      "text/plain": [
       "torch.Size([256, 4, 8, 14])"
      ]
     },
     "execution_count": 9,
     "metadata": {},
     "output_type": "execute_result"
    }
   ],
   "source": [
    "a4 = UNetUp(256, 512, 256, 2, 3)(a3)\n",
    "a4.shape"
   ]
  },
  {
   "cell_type": "code",
   "execution_count": 7,
   "id": "29bf2cc2-6f16-4644-8323-42f4060793a9",
   "metadata": {},
   "outputs": [],
   "source": [
    "# Step 2: Model Definition\n",
    "# from Conv4d_PyTorch.Conv4d import Conv4d\n",
    "\n",
    "class UNet(nn.Module):\n",
    "    def __init__(self, inputChannelCount: int, outputChannelCount: int):\n",
    "        super(UNet, self).__init__()\n",
    "\n",
    "        # Encoder\n",
    "        self.encoder = nn.Sequential(\n",
    "            nn.Conv3d(inputChannelCount, 64, kernel_size=3, padding=1),\n",
    "            nn.BatchNorm3d(64),\n",
    "            nn.ReLU(inplace=True),\n",
    "            # nn.MaxPool3d(kernel_size=2, stride=2),\n",
    "            nn.MaxPool3d(2)\n",
    "            nn.Conv3d(64, 128, kernel_size=3, padding=1),\n",
    "            nn.BatchNorm3d(64),\n",
    "            nn.ReLU(inplace=True),\n",
    "        )\n",
    "\n",
    "        # Decoder\n",
    "        self.decoder = nn.Sequential(\n",
    "            nn.Conv3d(128, 64, kernel_size=3, padding=1),\n",
    "            nn.ReLU(inplace=True),\n",
    "            # nn.Conv3d(64, outputChannelCount, kernel_size=3, padding=1),\n",
    "            # nn.ReLU(inplace=True),\n",
    "            nn.ConvTranspose3d(inputChannelCount, inputChannelCount // 2, kernel_size=2, stride=2),\n",
    "        )\n",
    "\n",
    "        # Final output layer\n",
    "        self.out = nn.Conv3d(64, outputChannelCount, kernel_size=1)\n",
    "\n",
    "    def forward(self, x):\n",
    "        # Encoder\n",
    "        print(\"1.1\")\n",
    "        x1 = self.encoder(x)\n",
    "        # Decoder\n",
    "        print(\"1.2\")\n",
    "        x = self.decoder(x1)\n",
    "        # Concatenate skip connection from encoder\n",
    "        print(\"1.3\")\n",
    "        x = torch.cat([x, x1], dim=1)\n",
    "        # Output layer\n",
    "        print(\"1.4\")\n",
    "        x = self.out(x)\n",
    "        print(\"1.5\")\n",
    "        return x\n",
    "\n",
    "model = UNet(1, 1).to(device)"
   ]
  },
  {
   "cell_type": "code",
   "execution_count": 9,
   "id": "be7bb474-30cd-4aae-b8dc-155e36144d23",
   "metadata": {},
   "outputs": [],
   "source": [
    "# Step 3: Loss Function\n",
    "criterion = nn.MSELoss()\n",
    "# criterion = nn.CrossEntropyLoss()\n",
    "# criterion = nn.BCEWithLogitsLoss()"
   ]
  },
  {
   "cell_type": "code",
   "execution_count": 10,
   "id": "55560cde-8d1b-4ab9-99c7-f9cda7e10311",
   "metadata": {},
   "outputs": [],
   "source": [
    "# Step 4: Optimizer\n",
    "# optimizer = optim.SGD(model.parameters(), lr=0.01)\n",
    "# optimizer = optim.RMSprop(model.parameters(), lr=0.01)\n",
    "optimizer = optim.Adam(model.parameters(), lr=0.01)"
   ]
  },
  {
   "cell_type": "code",
   "execution_count": 11,
   "id": "69d274b3-13c2-4f6e-8f96-eb14ebc4fe74",
   "metadata": {},
   "outputs": [
    {
     "name": "stdout",
     "output_type": "stream",
     "text": [
      "1\n",
      "torch.Size([1, 1, 100, 10948])\n",
      "torch.Size([1, 32, 100, 10948])\n",
      "torch.Size([1, 64, 50, 5474])\n",
      "torch.Size([1, 128, 25, 2737])\n",
      "torch.Size([1, 256, 12, 1368])\n",
      "torch.Size([1, 512, 6, 684])\n",
      "torch.Size([1, 256, 12, 1368])\n",
      "torch.Size([1, 128, 25, 2737])\n",
      "torch.Size([1, 64, 50, 5474])\n",
      "torch.Size([1, 32, 100, 10948])\n",
      "torch.Size([1, 1, 100, 10948])\n",
      "2\n"
     ]
    },
    {
     "name": "stderr",
     "output_type": "stream",
     "text": [
      "D:\\Users\\divad\\miniconda3\\envs\\py38\\lib\\site-packages\\torch\\nn\\modules\\loss.py:535: UserWarning: Using a target size (torch.Size([1, 324, 36, 64])) that is different to the input size (torch.Size([1, 1, 100, 10948])). This will likely lead to incorrect results due to broadcasting. Please ensure they have the same size.\n",
      "  return F.mse_loss(input, target, reduction=self.reduction)\n"
     ]
    },
    {
     "ename": "RuntimeError",
     "evalue": "The size of tensor a (10948) must match the size of tensor b (64) at non-singleton dimension 3",
     "output_type": "error",
     "traceback": [
      "\u001b[1;31m---------------------------------------------------------------------------\u001b[0m",
      "\u001b[1;31mRuntimeError\u001b[0m                              Traceback (most recent call last)",
      "Cell \u001b[1;32mIn[11], line 12\u001b[0m\n\u001b[0;32m     10\u001b[0m outputs \u001b[38;5;241m=\u001b[39m model(inputs)\n\u001b[0;32m     11\u001b[0m \u001b[38;5;28mprint\u001b[39m(\u001b[38;5;124m\"\u001b[39m\u001b[38;5;124m2\u001b[39m\u001b[38;5;124m\"\u001b[39m)\n\u001b[1;32m---> 12\u001b[0m loss \u001b[38;5;241m=\u001b[39m \u001b[43mcriterion\u001b[49m\u001b[43m(\u001b[49m\u001b[43moutputs\u001b[49m\u001b[43m,\u001b[49m\u001b[43m \u001b[49m\u001b[43mlabels\u001b[49m\u001b[43m)\u001b[49m\n\u001b[0;32m     13\u001b[0m \u001b[38;5;28mprint\u001b[39m(\u001b[38;5;124m\"\u001b[39m\u001b[38;5;124m3\u001b[39m\u001b[38;5;124m\"\u001b[39m)\n\u001b[0;32m     15\u001b[0m \u001b[38;5;66;03m# backpropagation\u001b[39;00m\n",
      "File \u001b[1;32mD:\\Users\\divad\\miniconda3\\envs\\py38\\lib\\site-packages\\torch\\nn\\modules\\module.py:1518\u001b[0m, in \u001b[0;36mModule._wrapped_call_impl\u001b[1;34m(self, *args, **kwargs)\u001b[0m\n\u001b[0;32m   1516\u001b[0m     \u001b[38;5;28;01mreturn\u001b[39;00m \u001b[38;5;28mself\u001b[39m\u001b[38;5;241m.\u001b[39m_compiled_call_impl(\u001b[38;5;241m*\u001b[39margs, \u001b[38;5;241m*\u001b[39m\u001b[38;5;241m*\u001b[39mkwargs)  \u001b[38;5;66;03m# type: ignore[misc]\u001b[39;00m\n\u001b[0;32m   1517\u001b[0m \u001b[38;5;28;01melse\u001b[39;00m:\n\u001b[1;32m-> 1518\u001b[0m     \u001b[38;5;28;01mreturn\u001b[39;00m \u001b[38;5;28;43mself\u001b[39;49m\u001b[38;5;241;43m.\u001b[39;49m\u001b[43m_call_impl\u001b[49m\u001b[43m(\u001b[49m\u001b[38;5;241;43m*\u001b[39;49m\u001b[43margs\u001b[49m\u001b[43m,\u001b[49m\u001b[43m \u001b[49m\u001b[38;5;241;43m*\u001b[39;49m\u001b[38;5;241;43m*\u001b[39;49m\u001b[43mkwargs\u001b[49m\u001b[43m)\u001b[49m\n",
      "File \u001b[1;32mD:\\Users\\divad\\miniconda3\\envs\\py38\\lib\\site-packages\\torch\\nn\\modules\\module.py:1527\u001b[0m, in \u001b[0;36mModule._call_impl\u001b[1;34m(self, *args, **kwargs)\u001b[0m\n\u001b[0;32m   1522\u001b[0m \u001b[38;5;66;03m# If we don't have any hooks, we want to skip the rest of the logic in\u001b[39;00m\n\u001b[0;32m   1523\u001b[0m \u001b[38;5;66;03m# this function, and just call forward.\u001b[39;00m\n\u001b[0;32m   1524\u001b[0m \u001b[38;5;28;01mif\u001b[39;00m \u001b[38;5;129;01mnot\u001b[39;00m (\u001b[38;5;28mself\u001b[39m\u001b[38;5;241m.\u001b[39m_backward_hooks \u001b[38;5;129;01mor\u001b[39;00m \u001b[38;5;28mself\u001b[39m\u001b[38;5;241m.\u001b[39m_backward_pre_hooks \u001b[38;5;129;01mor\u001b[39;00m \u001b[38;5;28mself\u001b[39m\u001b[38;5;241m.\u001b[39m_forward_hooks \u001b[38;5;129;01mor\u001b[39;00m \u001b[38;5;28mself\u001b[39m\u001b[38;5;241m.\u001b[39m_forward_pre_hooks\n\u001b[0;32m   1525\u001b[0m         \u001b[38;5;129;01mor\u001b[39;00m _global_backward_pre_hooks \u001b[38;5;129;01mor\u001b[39;00m _global_backward_hooks\n\u001b[0;32m   1526\u001b[0m         \u001b[38;5;129;01mor\u001b[39;00m _global_forward_hooks \u001b[38;5;129;01mor\u001b[39;00m _global_forward_pre_hooks):\n\u001b[1;32m-> 1527\u001b[0m     \u001b[38;5;28;01mreturn\u001b[39;00m \u001b[43mforward_call\u001b[49m\u001b[43m(\u001b[49m\u001b[38;5;241;43m*\u001b[39;49m\u001b[43margs\u001b[49m\u001b[43m,\u001b[49m\u001b[43m \u001b[49m\u001b[38;5;241;43m*\u001b[39;49m\u001b[38;5;241;43m*\u001b[39;49m\u001b[43mkwargs\u001b[49m\u001b[43m)\u001b[49m\n\u001b[0;32m   1529\u001b[0m \u001b[38;5;28;01mtry\u001b[39;00m:\n\u001b[0;32m   1530\u001b[0m     result \u001b[38;5;241m=\u001b[39m \u001b[38;5;28;01mNone\u001b[39;00m\n",
      "File \u001b[1;32mD:\\Users\\divad\\miniconda3\\envs\\py38\\lib\\site-packages\\torch\\nn\\modules\\loss.py:535\u001b[0m, in \u001b[0;36mMSELoss.forward\u001b[1;34m(self, input, target)\u001b[0m\n\u001b[0;32m    534\u001b[0m \u001b[38;5;28;01mdef\u001b[39;00m \u001b[38;5;21mforward\u001b[39m(\u001b[38;5;28mself\u001b[39m, \u001b[38;5;28minput\u001b[39m: Tensor, target: Tensor) \u001b[38;5;241m-\u001b[39m\u001b[38;5;241m>\u001b[39m Tensor:\n\u001b[1;32m--> 535\u001b[0m     \u001b[38;5;28;01mreturn\u001b[39;00m \u001b[43mF\u001b[49m\u001b[38;5;241;43m.\u001b[39;49m\u001b[43mmse_loss\u001b[49m\u001b[43m(\u001b[49m\u001b[38;5;28;43minput\u001b[39;49m\u001b[43m,\u001b[49m\u001b[43m \u001b[49m\u001b[43mtarget\u001b[49m\u001b[43m,\u001b[49m\u001b[43m \u001b[49m\u001b[43mreduction\u001b[49m\u001b[38;5;241;43m=\u001b[39;49m\u001b[38;5;28;43mself\u001b[39;49m\u001b[38;5;241;43m.\u001b[39;49m\u001b[43mreduction\u001b[49m\u001b[43m)\u001b[49m\n",
      "File \u001b[1;32mD:\\Users\\divad\\miniconda3\\envs\\py38\\lib\\site-packages\\torch\\nn\\functional.py:3328\u001b[0m, in \u001b[0;36mmse_loss\u001b[1;34m(input, target, size_average, reduce, reduction)\u001b[0m\n\u001b[0;32m   3325\u001b[0m \u001b[38;5;28;01mif\u001b[39;00m size_average \u001b[38;5;129;01mis\u001b[39;00m \u001b[38;5;129;01mnot\u001b[39;00m \u001b[38;5;28;01mNone\u001b[39;00m \u001b[38;5;129;01mor\u001b[39;00m reduce \u001b[38;5;129;01mis\u001b[39;00m \u001b[38;5;129;01mnot\u001b[39;00m \u001b[38;5;28;01mNone\u001b[39;00m:\n\u001b[0;32m   3326\u001b[0m     reduction \u001b[38;5;241m=\u001b[39m _Reduction\u001b[38;5;241m.\u001b[39mlegacy_get_string(size_average, reduce)\n\u001b[1;32m-> 3328\u001b[0m expanded_input, expanded_target \u001b[38;5;241m=\u001b[39m \u001b[43mtorch\u001b[49m\u001b[38;5;241;43m.\u001b[39;49m\u001b[43mbroadcast_tensors\u001b[49m\u001b[43m(\u001b[49m\u001b[38;5;28;43minput\u001b[39;49m\u001b[43m,\u001b[49m\u001b[43m \u001b[49m\u001b[43mtarget\u001b[49m\u001b[43m)\u001b[49m\n\u001b[0;32m   3329\u001b[0m \u001b[38;5;28;01mreturn\u001b[39;00m torch\u001b[38;5;241m.\u001b[39m_C\u001b[38;5;241m.\u001b[39m_nn\u001b[38;5;241m.\u001b[39mmse_loss(expanded_input, expanded_target, _Reduction\u001b[38;5;241m.\u001b[39mget_enum(reduction))\n",
      "File \u001b[1;32mD:\\Users\\divad\\miniconda3\\envs\\py38\\lib\\site-packages\\torch\\functional.py:73\u001b[0m, in \u001b[0;36mbroadcast_tensors\u001b[1;34m(*tensors)\u001b[0m\n\u001b[0;32m     71\u001b[0m \u001b[38;5;28;01mif\u001b[39;00m has_torch_function(tensors):\n\u001b[0;32m     72\u001b[0m     \u001b[38;5;28;01mreturn\u001b[39;00m handle_torch_function(broadcast_tensors, tensors, \u001b[38;5;241m*\u001b[39mtensors)\n\u001b[1;32m---> 73\u001b[0m \u001b[38;5;28;01mreturn\u001b[39;00m \u001b[43m_VF\u001b[49m\u001b[38;5;241;43m.\u001b[39;49m\u001b[43mbroadcast_tensors\u001b[49m\u001b[43m(\u001b[49m\u001b[43mtensors\u001b[49m\u001b[43m)\u001b[49m\n",
      "\u001b[1;31mRuntimeError\u001b[0m: The size of tensor a (10948) must match the size of tensor b (64) at non-singleton dimension 3"
     ]
    }
   ],
   "source": [
    "# Step 5: Training Loop\n",
    "num_epochs = 10\n",
    "\n",
    "for epoch in range(num_epochs):\n",
    "    model.train()\n",
    "    running_loss = 0.0\n",
    "\n",
    "    for inputs, labels in neurosismDataloader:\n",
    "        print(\"1\")\n",
    "        outputs = model(inputs)\n",
    "        print(\"2\")\n",
    "        loss = criterion(outputs, labels)\n",
    "        print(\"3\")\n",
    "\n",
    "        # backpropagation\n",
    "        loss.backward()\n",
    "        print(\"4\")\n",
    "        optimizer.step()\n",
    "        print(\"5\")\n",
    "        optimizer.zero_grad()\n",
    "        print(\"6\")\n",
    "\n",
    "        running_loss += loss.item()\n",
    "        print(\"7\")\n",
    "\n",
    "    # Print average loss per epoch\n",
    "    print(f\"Epoch {epoch+1}, Loss: {running_loss/len(train_loader)}\")"
   ]
  },
  {
   "cell_type": "code",
   "execution_count": 24,
   "id": "855edbd7-a8d8-49bc-b784-a543637ead35",
   "metadata": {},
   "outputs": [
    {
     "data": {
      "text/plain": [
       "(torch.Size([1, 1, 100, 10948]), torch.Size([1, 324, 36, 64]))"
      ]
     },
     "execution_count": 24,
     "metadata": {},
     "output_type": "execute_result"
    }
   ],
   "source": [
    "outputs.shape, labels.shape"
   ]
  },
  {
   "cell_type": "code",
   "execution_count": null,
   "id": "f2009abd-ffe8-4a62-bd8e-6551a835f8cc",
   "metadata": {},
   "outputs": [],
   "source": [
    "# Step 6: Validation/Test\n",
    "model.eval()\n",
    "with torch.no_grad():\n",
    "    for inputs, labels in val_loader:  # Assuming val_loader is DataLoader\n",
    "        outputs = model(inputs)\n",
    "        # Evaluate model performance (e.g., compute accuracy, loss, etc.)"
   ]
  }
 ],
 "metadata": {
  "kernelspec": {
   "display_name": "Python 3 (ipykernel)",
   "language": "python",
   "name": "python3"
  },
  "language_info": {
   "codemirror_mode": {
    "name": "ipython",
    "version": 3
   },
   "file_extension": ".py",
   "mimetype": "text/x-python",
   "name": "python",
   "nbconvert_exporter": "python",
   "pygments_lexer": "ipython3",
   "version": "3.8.18"
  }
 },
 "nbformat": 4,
 "nbformat_minor": 5
}
