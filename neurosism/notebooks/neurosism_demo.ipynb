{
 "cells": [
  {
   "cell_type": "code",
   "execution_count": 2,
   "id": "06a95d7e-5d1a-4b2b-ae21-48b2d6aff23d",
   "metadata": {},
   "outputs": [],
   "source": [
    "# # Step 0: Setup and Test\n",
    "# from IPython.display import HTML\n",
    "# from matplotlib import animation\n",
    "# import matplotlib.pyplot as plt\n",
    "# from helpers import *\n",
    "\n",
    "# dataPath = \"../sensorium_data/\"\n",
    "# mouseId = \"dynamic29156-11-10-Video-8744edeac3b4d1ce16b680916b5267ce\"\n",
    "\n",
    "# vid = np.load(dataPath + mouseId + \"/data/videos/0.npy\")\n",
    "# vid = reshape_video_hwd_to_dhw(vid)\n",
    "\n",
    "# %matplotlib inline\n",
    "# # an equal aspect (square), and turn the axes off\n",
    "# fig, ax = plt.subplots()\n",
    "# ax.set_aspect(\"equal\")\n",
    "# ax.set_axis_off()\n",
    "\n",
    "# # Images are generated and stored in a list to animate later\n",
    "# images_vid = []\n",
    "# images_as_array = []\n",
    "# for image in vid:\n",
    "#     # Scatter plot each point using a dot of size 250 and color red\n",
    "#     #images_vid.append([ax.imshow(image,cmap='gray')])\n",
    "#     images_vid.append([ax.imshow(image, cmap='gray')])\n",
    "#     images_as_array.append(image)\n",
    "# # The animation can now be created using ArtistAnimation\n",
    "# anim = animation.ArtistAnimation(fig,\n",
    "#                                 images_vid,\n",
    "#                                 interval= 1000 / 30,\n",
    "#                                 blit=True,\n",
    "#                                 repeat=False\n",
    "#                                 )\n",
    "# HTML(anim.to_jshtml())"
   ]
  },
  {
   "cell_type": "code",
   "execution_count": 3,
   "id": "3319555e-ea13-4b77-b1e2-609653ff8942",
   "metadata": {},
   "outputs": [],
   "source": [
    "# import numpy as np\n",
    "# # Step 1: Data Preparation\n",
    "# # [index][XYZ]\n",
    "# coordinates = np.load(dataPath + mouseId + \"/meta/neurons/cell_motor_coordinates.npy\")\n",
    "# print(coordinates.shape)\n",
    "\n",
    "# # responses = []\n",
    "# # responsesPath = dataPath + mousePath + \"/data/responses/\"\n",
    "# # for fileName in os.listdir(responsesPath):\n",
    "# #     responses.append(np.load(responsesPath + fileName))\n",
    "\n",
    "# # [index][time]\n",
    "# responses = np.load(dataPath + mouseId + \"/data/responses/0.npy\")\n",
    "# print(responses.shape)\n",
    "\n",
    "# # [height][width][time]\n",
    "# videos = np.load(dataPath + mouseId + \"/data/videos/0.npy\")\n",
    "# print(videos.shape)\n",
    "\n",
    "# neuronCount = responses.shape[0]\n",
    "# frameCount = videos.shape[2]\n",
    "\n",
    "# responses[0][50:]"
   ]
  },
  {
   "cell_type": "code",
   "execution_count": 6,
   "id": "c00aeb22-f2e0-4a1c-a3cd-8c739ba4d1b8",
   "metadata": {},
   "outputs": [],
   "source": [
    "# import scipy.sparse as sp\n",
    "# from scipy import ndimage\n",
    "\n",
    "# # Example sparse 3D data (COO format)\n",
    "# data = [1, 2.3, 3]\n",
    "# indices = [[0, 1, 2], [1, 5, 0], [2, 0, 1]]\n",
    "# sparse_3d_data = sp.coo_matrix((data, (indices[0], indices[1])))\n",
    "# print(sparse_3d_data)\n",
    "# sparse_3d_data.shape\n",
    "\n",
    "# zoom = (2, 0.5)\n",
    "# new_sparse_3d_data = ndimage.zoom(sparse_3d_data.toarray(), zoom)  # Using nearest-neighbor interpolation\n",
    "# print(new_sparse_3d_data)\n",
    "# new_sparse_3d_data.shape"
   ]
  },
  {
   "cell_type": "code",
   "execution_count": 3,
   "id": "7b668982-4623-4272-9119-a89c4eeb5d37",
   "metadata": {},
   "outputs": [
    {
     "data": {
      "text/plain": [
       "5873"
      ]
     },
     "execution_count": 3,
     "metadata": {},
     "output_type": "execute_result"
    }
   ],
   "source": [
    "# (_, I, J, K) = a.shape\n",
    "# count = 0\n",
    "# indices = [(i, j, k) for i in range(I) for j in range(J) for k in range(K)]\n",
    "# for i, j, k in indices:\n",
    "#     if a[0][i][j][k] > 0:\n",
    "#         count += 1\n",
    "# count"
   ]
  },
  {
   "cell_type": "code",
   "execution_count": 1,
   "id": "53cea580-f97f-4fa6-918a-321518d30dbb",
   "metadata": {},
   "outputs": [
    {
     "name": "stdout",
     "output_type": "stream",
     "text": [
      "Using cuda device\n"
     ]
    }
   ],
   "source": [
    "import numpy as np\n",
    "\n",
    "import os\n",
    "\n",
    "import torch\n",
    "import torch.nn as nn\n",
    "import torch.optim as optim\n",
    "from torch.utils.data import DataLoader\n",
    "\n",
    "device = (\n",
    "    \"cuda\"\n",
    "    if torch.cuda.is_available()\n",
    "    else \"mps\"\n",
    "    if torch.backends.mps.is_available()\n",
    "    else \"cpu\"\n",
    ")\n",
    "print(f\"Using {device} device\")\n",
    "\n",
    "TRAIN_COUNT = 60\n",
    "VALIDATION_COUNT = 20\n",
    "TEST_COUNT = 20"
   ]
  },
  {
   "cell_type": "code",
   "execution_count": 3,
   "id": "8e258b05-2dfe-4c78-8db5-10d853be8f39",
   "metadata": {},
   "outputs": [
    {
     "data": {
      "text/plain": [
       "((1, 1059, 708, 426), (1, 36, 64))"
      ]
     },
     "execution_count": 3,
     "metadata": {},
     "output_type": "execute_result"
    }
   ],
   "source": [
    "from NeurosismDataset3d import NeurosismDataset3d\n",
    "\n",
    "dataPath = \"../sensorium_data/\"\n",
    "mouseId = \"dynamic29156-11-10-Video-8744edeac3b4d1ce16b680916b5267ce\"\n",
    "\n",
    "frameCount = 20\n",
    "myDataset = NeurosismDataset3d(device, frameCount, dataPath + mouseId, densify=False, pool=1, seed=42)\n",
    "a, b = myDataset[0]\n",
    "\n",
    "batchSize = 1\n",
    "shuffle = True\n",
    "numWorkers = 4\n",
    "neurosismDataloader = DataLoader(myDataset, batch_size=batchSize, shuffle=shuffle, num_workers=numWorkers)\n",
    "\n",
    "a.shape, b.shape"
   ]
  },
  {
   "cell_type": "code",
   "execution_count": 12,
   "id": "01dbf44d-32bf-401f-aa32-d2a06c9d2e15",
   "metadata": {},
   "outputs": [
    {
     "data": {
      "text/plain": [
       "(torch.Size([1, 1, 5, 7, 11]), torch.Size([1, 16, 3, 5, 9]))"
      ]
     },
     "execution_count": 12,
     "metadata": {},
     "output_type": "execute_result"
    }
   ],
   "source": [
    "foo = torch.randn(1, 5, 7, 11)\n",
    "bar = nn.Conv3d(1, 16, 3)(foo)\n",
    "foo.shape, bar.shape"
   ]
  },
  {
   "cell_type": "code",
   "execution_count": 7,
   "id": "29bf2cc2-6f16-4644-8323-42f4060793a9",
   "metadata": {},
   "outputs": [],
   "source": [
    "# Step 2: Model Definition\n",
    "# from Conv4d_PyTorch.Conv4d import Conv4d\n",
    "\n",
    "class UNet(nn.Module):\n",
    "    def __init__(self, inputChannelCount: int, outputChannelCount: int):\n",
    "        super(UNet, self).__init__()\n",
    "\n",
    "        # Encoder\n",
    "        self.encoder = nn.Sequential(\n",
    "            nn.Conv3d(inputChannelCount, 64, kernel_size=3, padding=1),\n",
    "            nn.BatchNorm3d(64),\n",
    "            nn.ReLU(inplace=True),\n",
    "            # nn.MaxPool3d(kernel_size=2, stride=2),\n",
    "            nn.MaxPool3d(2)\n",
    "            nn.Conv3d(64, 128, kernel_size=3, padding=1),\n",
    "            nn.BatchNorm3d(64),\n",
    "            nn.ReLU(inplace=True),\n",
    "        )\n",
    "\n",
    "        # Decoder\n",
    "        self.decoder = nn.Sequential(\n",
    "            nn.Conv3d(128, 64, kernel_size=3, padding=1),\n",
    "            nn.ReLU(inplace=True),\n",
    "            # nn.Conv3d(64, outputChannelCount, kernel_size=3, padding=1),\n",
    "            # nn.ReLU(inplace=True),\n",
    "            nn.ConvTranspose3d(inputChannelCount, inputChannelCount // 2, kernel_size=2, stride=2),\n",
    "        )\n",
    "\n",
    "        # Final output layer\n",
    "        self.out = nn.Conv3d(64, outputChannelCount, kernel_size=1)\n",
    "\n",
    "    def forward(self, x):\n",
    "        # Encoder\n",
    "        print(\"1.1\")\n",
    "        x1 = self.encoder(x)\n",
    "        # Decoder\n",
    "        print(\"1.2\")\n",
    "        x = self.decoder(x1)\n",
    "        # Concatenate skip connection from encoder\n",
    "        print(\"1.3\")\n",
    "        x = torch.cat([x, x1], dim=1)\n",
    "        # Output layer\n",
    "        print(\"1.4\")\n",
    "        x = self.out(x)\n",
    "        print(\"1.5\")\n",
    "        return x\n",
    "\n",
    "model = UNet(1, 1).to(device)"
   ]
  },
  {
   "cell_type": "code",
   "execution_count": 9,
   "id": "be7bb474-30cd-4aae-b8dc-155e36144d23",
   "metadata": {},
   "outputs": [],
   "source": [
    "# Step 3: Loss Function\n",
    "criterion = nn.MSELoss()\n",
    "# criterion = nn.CrossEntropyLoss()\n",
    "# criterion = nn.BCEWithLogitsLoss()"
   ]
  },
  {
   "cell_type": "code",
   "execution_count": 10,
   "id": "55560cde-8d1b-4ab9-99c7-f9cda7e10311",
   "metadata": {},
   "outputs": [],
   "source": [
    "# Step 4: Optimizer\n",
    "# optimizer = optim.SGD(model.parameters(), lr=0.01)\n",
    "# optimizer = optim.RMSprop(model.parameters(), lr=0.01)\n",
    "optimizer = optim.Adam(model.parameters(), lr=0.01)"
   ]
  },
  {
   "cell_type": "code",
   "execution_count": 11,
   "id": "69d274b3-13c2-4f6e-8f96-eb14ebc4fe74",
   "metadata": {},
   "outputs": [
    {
     "name": "stdout",
     "output_type": "stream",
     "text": [
      "1\n",
      "torch.Size([1, 1, 100, 10948])\n",
      "torch.Size([1, 32, 100, 10948])\n",
      "torch.Size([1, 64, 50, 5474])\n",
      "torch.Size([1, 128, 25, 2737])\n",
      "torch.Size([1, 256, 12, 1368])\n",
      "torch.Size([1, 512, 6, 684])\n",
      "torch.Size([1, 256, 12, 1368])\n",
      "torch.Size([1, 128, 25, 2737])\n",
      "torch.Size([1, 64, 50, 5474])\n",
      "torch.Size([1, 32, 100, 10948])\n",
      "torch.Size([1, 1, 100, 10948])\n",
      "2\n"
     ]
    },
    {
     "name": "stderr",
     "output_type": "stream",
     "text": [
      "D:\\Users\\divad\\miniconda3\\envs\\py38\\lib\\site-packages\\torch\\nn\\modules\\loss.py:535: UserWarning: Using a target size (torch.Size([1, 324, 36, 64])) that is different to the input size (torch.Size([1, 1, 100, 10948])). This will likely lead to incorrect results due to broadcasting. Please ensure they have the same size.\n",
      "  return F.mse_loss(input, target, reduction=self.reduction)\n"
     ]
    },
    {
     "ename": "RuntimeError",
     "evalue": "The size of tensor a (10948) must match the size of tensor b (64) at non-singleton dimension 3",
     "output_type": "error",
     "traceback": [
      "\u001b[1;31m---------------------------------------------------------------------------\u001b[0m",
      "\u001b[1;31mRuntimeError\u001b[0m                              Traceback (most recent call last)",
      "Cell \u001b[1;32mIn[11], line 12\u001b[0m\n\u001b[0;32m     10\u001b[0m outputs \u001b[38;5;241m=\u001b[39m model(inputs)\n\u001b[0;32m     11\u001b[0m \u001b[38;5;28mprint\u001b[39m(\u001b[38;5;124m\"\u001b[39m\u001b[38;5;124m2\u001b[39m\u001b[38;5;124m\"\u001b[39m)\n\u001b[1;32m---> 12\u001b[0m loss \u001b[38;5;241m=\u001b[39m \u001b[43mcriterion\u001b[49m\u001b[43m(\u001b[49m\u001b[43moutputs\u001b[49m\u001b[43m,\u001b[49m\u001b[43m \u001b[49m\u001b[43mlabels\u001b[49m\u001b[43m)\u001b[49m\n\u001b[0;32m     13\u001b[0m \u001b[38;5;28mprint\u001b[39m(\u001b[38;5;124m\"\u001b[39m\u001b[38;5;124m3\u001b[39m\u001b[38;5;124m\"\u001b[39m)\n\u001b[0;32m     15\u001b[0m \u001b[38;5;66;03m# backpropagation\u001b[39;00m\n",
      "File \u001b[1;32mD:\\Users\\divad\\miniconda3\\envs\\py38\\lib\\site-packages\\torch\\nn\\modules\\module.py:1518\u001b[0m, in \u001b[0;36mModule._wrapped_call_impl\u001b[1;34m(self, *args, **kwargs)\u001b[0m\n\u001b[0;32m   1516\u001b[0m     \u001b[38;5;28;01mreturn\u001b[39;00m \u001b[38;5;28mself\u001b[39m\u001b[38;5;241m.\u001b[39m_compiled_call_impl(\u001b[38;5;241m*\u001b[39margs, \u001b[38;5;241m*\u001b[39m\u001b[38;5;241m*\u001b[39mkwargs)  \u001b[38;5;66;03m# type: ignore[misc]\u001b[39;00m\n\u001b[0;32m   1517\u001b[0m \u001b[38;5;28;01melse\u001b[39;00m:\n\u001b[1;32m-> 1518\u001b[0m     \u001b[38;5;28;01mreturn\u001b[39;00m \u001b[38;5;28;43mself\u001b[39;49m\u001b[38;5;241;43m.\u001b[39;49m\u001b[43m_call_impl\u001b[49m\u001b[43m(\u001b[49m\u001b[38;5;241;43m*\u001b[39;49m\u001b[43margs\u001b[49m\u001b[43m,\u001b[49m\u001b[43m \u001b[49m\u001b[38;5;241;43m*\u001b[39;49m\u001b[38;5;241;43m*\u001b[39;49m\u001b[43mkwargs\u001b[49m\u001b[43m)\u001b[49m\n",
      "File \u001b[1;32mD:\\Users\\divad\\miniconda3\\envs\\py38\\lib\\site-packages\\torch\\nn\\modules\\module.py:1527\u001b[0m, in \u001b[0;36mModule._call_impl\u001b[1;34m(self, *args, **kwargs)\u001b[0m\n\u001b[0;32m   1522\u001b[0m \u001b[38;5;66;03m# If we don't have any hooks, we want to skip the rest of the logic in\u001b[39;00m\n\u001b[0;32m   1523\u001b[0m \u001b[38;5;66;03m# this function, and just call forward.\u001b[39;00m\n\u001b[0;32m   1524\u001b[0m \u001b[38;5;28;01mif\u001b[39;00m \u001b[38;5;129;01mnot\u001b[39;00m (\u001b[38;5;28mself\u001b[39m\u001b[38;5;241m.\u001b[39m_backward_hooks \u001b[38;5;129;01mor\u001b[39;00m \u001b[38;5;28mself\u001b[39m\u001b[38;5;241m.\u001b[39m_backward_pre_hooks \u001b[38;5;129;01mor\u001b[39;00m \u001b[38;5;28mself\u001b[39m\u001b[38;5;241m.\u001b[39m_forward_hooks \u001b[38;5;129;01mor\u001b[39;00m \u001b[38;5;28mself\u001b[39m\u001b[38;5;241m.\u001b[39m_forward_pre_hooks\n\u001b[0;32m   1525\u001b[0m         \u001b[38;5;129;01mor\u001b[39;00m _global_backward_pre_hooks \u001b[38;5;129;01mor\u001b[39;00m _global_backward_hooks\n\u001b[0;32m   1526\u001b[0m         \u001b[38;5;129;01mor\u001b[39;00m _global_forward_hooks \u001b[38;5;129;01mor\u001b[39;00m _global_forward_pre_hooks):\n\u001b[1;32m-> 1527\u001b[0m     \u001b[38;5;28;01mreturn\u001b[39;00m \u001b[43mforward_call\u001b[49m\u001b[43m(\u001b[49m\u001b[38;5;241;43m*\u001b[39;49m\u001b[43margs\u001b[49m\u001b[43m,\u001b[49m\u001b[43m \u001b[49m\u001b[38;5;241;43m*\u001b[39;49m\u001b[38;5;241;43m*\u001b[39;49m\u001b[43mkwargs\u001b[49m\u001b[43m)\u001b[49m\n\u001b[0;32m   1529\u001b[0m \u001b[38;5;28;01mtry\u001b[39;00m:\n\u001b[0;32m   1530\u001b[0m     result \u001b[38;5;241m=\u001b[39m \u001b[38;5;28;01mNone\u001b[39;00m\n",
      "File \u001b[1;32mD:\\Users\\divad\\miniconda3\\envs\\py38\\lib\\site-packages\\torch\\nn\\modules\\loss.py:535\u001b[0m, in \u001b[0;36mMSELoss.forward\u001b[1;34m(self, input, target)\u001b[0m\n\u001b[0;32m    534\u001b[0m \u001b[38;5;28;01mdef\u001b[39;00m \u001b[38;5;21mforward\u001b[39m(\u001b[38;5;28mself\u001b[39m, \u001b[38;5;28minput\u001b[39m: Tensor, target: Tensor) \u001b[38;5;241m-\u001b[39m\u001b[38;5;241m>\u001b[39m Tensor:\n\u001b[1;32m--> 535\u001b[0m     \u001b[38;5;28;01mreturn\u001b[39;00m \u001b[43mF\u001b[49m\u001b[38;5;241;43m.\u001b[39;49m\u001b[43mmse_loss\u001b[49m\u001b[43m(\u001b[49m\u001b[38;5;28;43minput\u001b[39;49m\u001b[43m,\u001b[49m\u001b[43m \u001b[49m\u001b[43mtarget\u001b[49m\u001b[43m,\u001b[49m\u001b[43m \u001b[49m\u001b[43mreduction\u001b[49m\u001b[38;5;241;43m=\u001b[39;49m\u001b[38;5;28;43mself\u001b[39;49m\u001b[38;5;241;43m.\u001b[39;49m\u001b[43mreduction\u001b[49m\u001b[43m)\u001b[49m\n",
      "File \u001b[1;32mD:\\Users\\divad\\miniconda3\\envs\\py38\\lib\\site-packages\\torch\\nn\\functional.py:3328\u001b[0m, in \u001b[0;36mmse_loss\u001b[1;34m(input, target, size_average, reduce, reduction)\u001b[0m\n\u001b[0;32m   3325\u001b[0m \u001b[38;5;28;01mif\u001b[39;00m size_average \u001b[38;5;129;01mis\u001b[39;00m \u001b[38;5;129;01mnot\u001b[39;00m \u001b[38;5;28;01mNone\u001b[39;00m \u001b[38;5;129;01mor\u001b[39;00m reduce \u001b[38;5;129;01mis\u001b[39;00m \u001b[38;5;129;01mnot\u001b[39;00m \u001b[38;5;28;01mNone\u001b[39;00m:\n\u001b[0;32m   3326\u001b[0m     reduction \u001b[38;5;241m=\u001b[39m _Reduction\u001b[38;5;241m.\u001b[39mlegacy_get_string(size_average, reduce)\n\u001b[1;32m-> 3328\u001b[0m expanded_input, expanded_target \u001b[38;5;241m=\u001b[39m \u001b[43mtorch\u001b[49m\u001b[38;5;241;43m.\u001b[39;49m\u001b[43mbroadcast_tensors\u001b[49m\u001b[43m(\u001b[49m\u001b[38;5;28;43minput\u001b[39;49m\u001b[43m,\u001b[49m\u001b[43m \u001b[49m\u001b[43mtarget\u001b[49m\u001b[43m)\u001b[49m\n\u001b[0;32m   3329\u001b[0m \u001b[38;5;28;01mreturn\u001b[39;00m torch\u001b[38;5;241m.\u001b[39m_C\u001b[38;5;241m.\u001b[39m_nn\u001b[38;5;241m.\u001b[39mmse_loss(expanded_input, expanded_target, _Reduction\u001b[38;5;241m.\u001b[39mget_enum(reduction))\n",
      "File \u001b[1;32mD:\\Users\\divad\\miniconda3\\envs\\py38\\lib\\site-packages\\torch\\functional.py:73\u001b[0m, in \u001b[0;36mbroadcast_tensors\u001b[1;34m(*tensors)\u001b[0m\n\u001b[0;32m     71\u001b[0m \u001b[38;5;28;01mif\u001b[39;00m has_torch_function(tensors):\n\u001b[0;32m     72\u001b[0m     \u001b[38;5;28;01mreturn\u001b[39;00m handle_torch_function(broadcast_tensors, tensors, \u001b[38;5;241m*\u001b[39mtensors)\n\u001b[1;32m---> 73\u001b[0m \u001b[38;5;28;01mreturn\u001b[39;00m \u001b[43m_VF\u001b[49m\u001b[38;5;241;43m.\u001b[39;49m\u001b[43mbroadcast_tensors\u001b[49m\u001b[43m(\u001b[49m\u001b[43mtensors\u001b[49m\u001b[43m)\u001b[49m\n",
      "\u001b[1;31mRuntimeError\u001b[0m: The size of tensor a (10948) must match the size of tensor b (64) at non-singleton dimension 3"
     ]
    }
   ],
   "source": [
    "# Step 5: Training Loop\n",
    "num_epochs = 10\n",
    "\n",
    "for epoch in range(num_epochs):\n",
    "    model.train()\n",
    "    running_loss = 0.0\n",
    "\n",
    "    for inputs, labels in neurosismDataloader:\n",
    "        print(\"1\")\n",
    "        outputs = model(inputs)\n",
    "        print(\"2\")\n",
    "        loss = criterion(outputs, labels)\n",
    "        print(\"3\")\n",
    "\n",
    "        # backpropagation\n",
    "        loss.backward()\n",
    "        print(\"4\")\n",
    "        optimizer.step()\n",
    "        print(\"5\")\n",
    "        optimizer.zero_grad()\n",
    "        print(\"6\")\n",
    "\n",
    "        running_loss += loss.item()\n",
    "        print(\"7\")\n",
    "\n",
    "    # Print average loss per epoch\n",
    "    print(f\"Epoch {epoch+1}, Loss: {running_loss/len(train_loader)}\")"
   ]
  },
  {
   "cell_type": "code",
   "execution_count": 24,
   "id": "855edbd7-a8d8-49bc-b784-a543637ead35",
   "metadata": {},
   "outputs": [
    {
     "data": {
      "text/plain": [
       "(torch.Size([1, 1, 100, 10948]), torch.Size([1, 324, 36, 64]))"
      ]
     },
     "execution_count": 24,
     "metadata": {},
     "output_type": "execute_result"
    }
   ],
   "source": [
    "outputs.shape, labels.shape"
   ]
  },
  {
   "cell_type": "code",
   "execution_count": null,
   "id": "f2009abd-ffe8-4a62-bd8e-6551a835f8cc",
   "metadata": {},
   "outputs": [],
   "source": [
    "# Step 6: Validation/Test\n",
    "model.eval()\n",
    "with torch.no_grad():\n",
    "    for inputs, labels in val_loader:  # Assuming val_loader is DataLoader\n",
    "        outputs = model(inputs)\n",
    "        # Evaluate model performance (e.g., compute accuracy, loss, etc.)"
   ]
  }
 ],
 "metadata": {
  "kernelspec": {
   "display_name": "Python 3 (ipykernel)",
   "language": "python",
   "name": "python3"
  },
  "language_info": {
   "codemirror_mode": {
    "name": "ipython",
    "version": 3
   },
   "file_extension": ".py",
   "mimetype": "text/x-python",
   "name": "python",
   "nbconvert_exporter": "python",
   "pygments_lexer": "ipython3",
   "version": "3.8.18"
  }
 },
 "nbformat": 4,
 "nbformat_minor": 5
}
