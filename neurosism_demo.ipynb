{
 "cells": [
  {
   "cell_type": "code",
   "execution_count": 1,
   "id": "670be050-3cc2-4061-bb6e-9c11c24d5a67",
   "metadata": {},
   "outputs": [],
   "source": [
    "import numpy as np\n",
    "\n",
    "import os\n",
    "\n",
    "import torch\n",
    "import torch.nn as nn\n",
    "import torch.optim as optim\n",
    "\n",
    "device = 'cuda'\n",
    "\n",
    "TRAIN_COUNT = 60\n",
    "VALIDATION_COUNT = 20\n",
    "TEST_COUNT = 20"
   ]
  },
  {
   "cell_type": "code",
   "execution_count": null,
   "id": "3319555e-ea13-4b77-b1e2-609653ff8942",
   "metadata": {},
   "outputs": [
    {
     "name": "stdout",
     "output_type": "stream",
     "text": [
      "(7863, 3)\n"
     ]
    }
   ],
   "source": [
    "# Step 1: Data Preparation\n",
    "dataPath = \"../sensorium_data/\"\n",
    "mousePath = \"dynamic29515-10-12-Video-9b4f6a1a067fe51e15306b9628efea20\"\n",
    "\n",
    "# [index][XYZ]\n",
    "coordinates = np.load(dataPath + mousePath + \"/meta/neurons/cell_motor_coordinates.npy\")\n",
    "print(coordinates.shape)\n",
    "\n",
    "# responses = []\n",
    "# responsesPath = dataPath + mousePath + \"/data/responses/\"\n",
    "# for fileName in os.listdir(responsesPath):\n",
    "#     responses.append(np.load(responsesPath + fileName))\n",
    "\n",
    "[index][time]\n",
    "responses = np.load(dataPath + mouseKey + \"/data/responses/0.npy\")\n",
    "print(responses.shape)\n",
    "\n",
    "# [height][width][time]\n",
    "videos = np.load(dataPath + mouseKey + \"/data/videos/0.npy\")\n",
    "print(videos.shape)\n",
    "\n",
    "neuronCount = responses.shape[0]\n",
    "frameCount = videos.shape[2]"
   ]
  },
  {
   "cell_type": "code",
   "execution_count": null,
   "id": "29bf2cc2-6f16-4644-8323-42f4060793a9",
   "metadata": {},
   "outputs": [],
   "source": [
    "# Step 2: Model Definition\n",
    "import Conv4d from Conv4d\n",
    "\n",
    "class UNet(nn.Module):\n",
    "    def __init__(self, inputChannelCount: int, outputChannelCount: int):\n",
    "        super(UNet, self).__init__()\n",
    "\n",
    "        # Encoder\n",
    "        self.encoder = nn.Sequential(\n",
    "            # nn.Conv2d(inputChannelCount, 64, kernel_size=3, padding=1),\n",
    "            Conv4d(inputChannelCount, 64, kernel_size=3, padding=1)\n",
    "            nn.ReLU(inplace=True),\n",
    "            nn.Conv2d(64, 64, kernel_size=3, padding=1),\n",
    "            nn.ReLU(inplace=True),\n",
    "            nn.MaxPool2d(kernel_size=2, stride=2),\n",
    "        )\n",
    "\n",
    "        # Decoder\n",
    "        self.decoder = nn.Sequential(\n",
    "            nn.Conv2d(64, 128, kernel_size=3, padding=1),\n",
    "            nn.ReLU(inplace=True),\n",
    "            nn.Conv2d(128, 128, kernel_size=3, padding=1),\n",
    "            nn.ReLU(inplace=True),\n",
    "            nn.ConvTranspose2d(128, 64, kernel_size=2, stride=2),\n",
    "        )\n",
    "\n",
    "        # Final output layer\n",
    "        self.out = nn.Conv2d(64, outputChannelCount, kernel_size=1)\n",
    "\n",
    "    def forward(self, x):\n",
    "        # Encoder\n",
    "        x1 = self.encoder(x)\n",
    "        # Decoder\n",
    "        x = self.decoder(x1)\n",
    "        # Concatenate skip connection from encoder\n",
    "        x = torch.cat([x, x1], dim=1)\n",
    "        # Output layer\n",
    "        x = self.out(x)\n",
    "        return x\n",
    "\n",
    "model = UNet()"
   ]
  },
  {
   "cell_type": "code",
   "execution_count": 11,
   "id": "be7bb474-30cd-4aae-b8dc-155e36144d23",
   "metadata": {},
   "outputs": [
    {
     "data": {
      "text/plain": [
       "7863"
      ]
     },
     "execution_count": 11,
     "metadata": {},
     "output_type": "execute_result"
    }
   ],
   "source": [
    "# Step 3: Loss Function\n",
    "criterion = nn.MSELoss()"
   ]
  },
  {
   "cell_type": "code",
   "execution_count": null,
   "id": "55560cde-8d1b-4ab9-99c7-f9cda7e10311",
   "metadata": {},
   "outputs": [],
   "source": [
    "# Step 4: Optimizer\n",
    "optimizer = optim.SGD(model.parameters(), lr=0.01)"
   ]
  },
  {
   "cell_type": "code",
   "execution_count": null,
   "id": "69d274b3-13c2-4f6e-8f96-eb14ebc4fe74",
   "metadata": {},
   "outputs": [],
   "source": [
    "# Step 5: Training Loop\n",
    "for epoch in range(num_epochs):\n",
    "    model.train()\n",
    "    running_loss = 0.0\n",
    "\n",
    "    for inputs, labels in train_loader:  # Assuming train_loader is DataLoader\n",
    "        optimizer.zero_grad()\n",
    "\n",
    "        outputs = model(inputs)\n",
    "        loss = criterion(outputs, labels)\n",
    "        loss.backward()\n",
    "        optimizer.step()\n",
    "\n",
    "        running_loss += loss.item()\n",
    "\n",
    "    # Print average loss per epoch\n",
    "    print(f\"Epoch {epoch+1}, Loss: {running_loss/len(train_loader)}\")"
   ]
  },
  {
   "cell_type": "code",
   "execution_count": null,
   "id": "f2009abd-ffe8-4a62-bd8e-6551a835f8cc",
   "metadata": {},
   "outputs": [],
   "source": [
    "# Step 6: Validation/Test\n",
    "model.eval()\n",
    "with torch.no_grad():\n",
    "    for inputs, labels in val_loader:  # Assuming val_loader is DataLoader\n",
    "        outputs = model(inputs)\n",
    "        # Evaluate model performance (e.g., compute accuracy, loss, etc.)"
   ]
  }
 ],
 "metadata": {
  "kernelspec": {
   "display_name": "Python 3 (ipykernel)",
   "language": "python",
   "name": "python3"
  },
  "language_info": {
   "codemirror_mode": {
    "name": "ipython",
    "version": 3
   },
   "file_extension": ".py",
   "mimetype": "text/x-python",
   "name": "python",
   "nbconvert_exporter": "python",
   "pygments_lexer": "ipython3",
   "version": "3.8.18"
  }
 },
 "nbformat": 4,
 "nbformat_minor": 5
}
